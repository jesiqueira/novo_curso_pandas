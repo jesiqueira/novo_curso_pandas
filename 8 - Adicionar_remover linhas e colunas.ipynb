{
 "cells": [
  {
   "cell_type": "code",
   "execution_count": 1,
   "id": "47367204",
   "metadata": {},
   "outputs": [],
   "source": [
    "import pandas as pd"
   ]
  },
  {
   "cell_type": "code",
   "execution_count": 2,
   "id": "9d1b79ad",
   "metadata": {},
   "outputs": [],
   "source": [
    "#criar nosso objeto\n",
    "people = {\n",
    "    'first': ['Jose Edmar','Lucas', 'Adeguimar'],\n",
    "    'last': ['Siqueira', 'Siqueira', 'Lacerda'],\n",
    "    'email': ['edmar.ade@gmail.com', 'lucas@hotmail.com','adeguimar@gmail.com']\n",
    "}"
   ]
  },
  {
   "cell_type": "code",
   "execution_count": 3,
   "id": "c00fe148",
   "metadata": {},
   "outputs": [],
   "source": [
    "#transforma objeto em DataFrame\n",
    "df = pd.DataFrame(people)"
   ]
  },
  {
   "cell_type": "code",
   "execution_count": 4,
   "id": "9a69a5ca",
   "metadata": {},
   "outputs": [
    {
     "data": {
      "text/html": [
       "<div>\n",
       "<style scoped>\n",
       "    .dataframe tbody tr th:only-of-type {\n",
       "        vertical-align: middle;\n",
       "    }\n",
       "\n",
       "    .dataframe tbody tr th {\n",
       "        vertical-align: top;\n",
       "    }\n",
       "\n",
       "    .dataframe thead th {\n",
       "        text-align: right;\n",
       "    }\n",
       "</style>\n",
       "<table border=\"1\" class=\"dataframe\">\n",
       "  <thead>\n",
       "    <tr style=\"text-align: right;\">\n",
       "      <th></th>\n",
       "      <th>first</th>\n",
       "      <th>last</th>\n",
       "      <th>email</th>\n",
       "    </tr>\n",
       "  </thead>\n",
       "  <tbody>\n",
       "    <tr>\n",
       "      <th>0</th>\n",
       "      <td>Jose Edmar</td>\n",
       "      <td>Siqueira</td>\n",
       "      <td>edmar.ade@gmail.com</td>\n",
       "    </tr>\n",
       "    <tr>\n",
       "      <th>1</th>\n",
       "      <td>Lucas</td>\n",
       "      <td>Siqueira</td>\n",
       "      <td>lucas@hotmail.com</td>\n",
       "    </tr>\n",
       "    <tr>\n",
       "      <th>2</th>\n",
       "      <td>Adeguimar</td>\n",
       "      <td>Lacerda</td>\n",
       "      <td>adeguimar@gmail.com</td>\n",
       "    </tr>\n",
       "  </tbody>\n",
       "</table>\n",
       "</div>"
      ],
      "text/plain": [
       "        first      last                email\n",
       "0  Jose Edmar  Siqueira  edmar.ade@gmail.com\n",
       "1       Lucas  Siqueira    lucas@hotmail.com\n",
       "2   Adeguimar   Lacerda  adeguimar@gmail.com"
      ]
     },
     "execution_count": 4,
     "metadata": {},
     "output_type": "execute_result"
    }
   ],
   "source": [
    "df"
   ]
  },
  {
   "cell_type": "code",
   "execution_count": 5,
   "id": "0e2f34e0",
   "metadata": {},
   "outputs": [
    {
     "data": {
      "text/plain": [
       "0    Jose Edmar Siqueira\n",
       "1         Lucas Siqueira\n",
       "2      Adeguimar Lacerda\n",
       "dtype: object"
      ]
     },
     "execution_count": 5,
     "metadata": {},
     "output_type": "execute_result"
    }
   ],
   "source": [
    "#vamos criar um campo com primeiro e ultimo nome\n",
    "df['first'] + ' ' + df['last']"
   ]
  },
  {
   "cell_type": "code",
   "execution_count": 6,
   "id": "5b994125",
   "metadata": {},
   "outputs": [],
   "source": [
    "#Adicionar o campo como full_name no dataFrame\n",
    "df['Full_name'] = df['first'] + ' ' + df['last']"
   ]
  },
  {
   "cell_type": "code",
   "execution_count": 7,
   "id": "ed7332f0",
   "metadata": {},
   "outputs": [
    {
     "data": {
      "text/html": [
       "<div>\n",
       "<style scoped>\n",
       "    .dataframe tbody tr th:only-of-type {\n",
       "        vertical-align: middle;\n",
       "    }\n",
       "\n",
       "    .dataframe tbody tr th {\n",
       "        vertical-align: top;\n",
       "    }\n",
       "\n",
       "    .dataframe thead th {\n",
       "        text-align: right;\n",
       "    }\n",
       "</style>\n",
       "<table border=\"1\" class=\"dataframe\">\n",
       "  <thead>\n",
       "    <tr style=\"text-align: right;\">\n",
       "      <th></th>\n",
       "      <th>first</th>\n",
       "      <th>last</th>\n",
       "      <th>email</th>\n",
       "      <th>Full_name</th>\n",
       "    </tr>\n",
       "  </thead>\n",
       "  <tbody>\n",
       "    <tr>\n",
       "      <th>0</th>\n",
       "      <td>Jose Edmar</td>\n",
       "      <td>Siqueira</td>\n",
       "      <td>edmar.ade@gmail.com</td>\n",
       "      <td>Jose Edmar Siqueira</td>\n",
       "    </tr>\n",
       "    <tr>\n",
       "      <th>1</th>\n",
       "      <td>Lucas</td>\n",
       "      <td>Siqueira</td>\n",
       "      <td>lucas@hotmail.com</td>\n",
       "      <td>Lucas Siqueira</td>\n",
       "    </tr>\n",
       "    <tr>\n",
       "      <th>2</th>\n",
       "      <td>Adeguimar</td>\n",
       "      <td>Lacerda</td>\n",
       "      <td>adeguimar@gmail.com</td>\n",
       "      <td>Adeguimar Lacerda</td>\n",
       "    </tr>\n",
       "  </tbody>\n",
       "</table>\n",
       "</div>"
      ],
      "text/plain": [
       "        first      last                email            Full_name\n",
       "0  Jose Edmar  Siqueira  edmar.ade@gmail.com  Jose Edmar Siqueira\n",
       "1       Lucas  Siqueira    lucas@hotmail.com       Lucas Siqueira\n",
       "2   Adeguimar   Lacerda  adeguimar@gmail.com    Adeguimar Lacerda"
      ]
     },
     "execution_count": 7,
     "metadata": {},
     "output_type": "execute_result"
    }
   ],
   "source": [
    "#visualizar dataFrame\n",
    "df"
   ]
  },
  {
   "cell_type": "code",
   "execution_count": 8,
   "id": "909070a9",
   "metadata": {},
   "outputs": [
    {
     "data": {
      "text/html": [
       "<div>\n",
       "<style scoped>\n",
       "    .dataframe tbody tr th:only-of-type {\n",
       "        vertical-align: middle;\n",
       "    }\n",
       "\n",
       "    .dataframe tbody tr th {\n",
       "        vertical-align: top;\n",
       "    }\n",
       "\n",
       "    .dataframe thead th {\n",
       "        text-align: right;\n",
       "    }\n",
       "</style>\n",
       "<table border=\"1\" class=\"dataframe\">\n",
       "  <thead>\n",
       "    <tr style=\"text-align: right;\">\n",
       "      <th></th>\n",
       "      <th>email</th>\n",
       "      <th>Full_name</th>\n",
       "    </tr>\n",
       "  </thead>\n",
       "  <tbody>\n",
       "    <tr>\n",
       "      <th>0</th>\n",
       "      <td>edmar.ade@gmail.com</td>\n",
       "      <td>Jose Edmar Siqueira</td>\n",
       "    </tr>\n",
       "    <tr>\n",
       "      <th>1</th>\n",
       "      <td>lucas@hotmail.com</td>\n",
       "      <td>Lucas Siqueira</td>\n",
       "    </tr>\n",
       "    <tr>\n",
       "      <th>2</th>\n",
       "      <td>adeguimar@gmail.com</td>\n",
       "      <td>Adeguimar Lacerda</td>\n",
       "    </tr>\n",
       "  </tbody>\n",
       "</table>\n",
       "</div>"
      ],
      "text/plain": [
       "                 email            Full_name\n",
       "0  edmar.ade@gmail.com  Jose Edmar Siqueira\n",
       "1    lucas@hotmail.com       Lucas Siqueira\n",
       "2  adeguimar@gmail.com    Adeguimar Lacerda"
      ]
     },
     "execution_count": 8,
     "metadata": {},
     "output_type": "execute_result"
    }
   ],
   "source": [
    "# para remover um ou varias colunas usamos o drop\n",
    "df.drop(columns=['first', 'last'])"
   ]
  },
  {
   "cell_type": "code",
   "execution_count": 9,
   "id": "c2ca1ba2",
   "metadata": {},
   "outputs": [],
   "source": [
    "#ao executar ele nos mostra como ficara o dataFrane porém não modifico no DataFrame ainda para modificar devemos usar inplace=True\n",
    "df.drop(columns=['first', 'last'], inplace=True)"
   ]
  },
  {
   "cell_type": "code",
   "execution_count": 10,
   "id": "4df96dc0",
   "metadata": {},
   "outputs": [
    {
     "data": {
      "text/html": [
       "<div>\n",
       "<style scoped>\n",
       "    .dataframe tbody tr th:only-of-type {\n",
       "        vertical-align: middle;\n",
       "    }\n",
       "\n",
       "    .dataframe tbody tr th {\n",
       "        vertical-align: top;\n",
       "    }\n",
       "\n",
       "    .dataframe thead th {\n",
       "        text-align: right;\n",
       "    }\n",
       "</style>\n",
       "<table border=\"1\" class=\"dataframe\">\n",
       "  <thead>\n",
       "    <tr style=\"text-align: right;\">\n",
       "      <th></th>\n",
       "      <th>email</th>\n",
       "      <th>Full_name</th>\n",
       "    </tr>\n",
       "  </thead>\n",
       "  <tbody>\n",
       "    <tr>\n",
       "      <th>0</th>\n",
       "      <td>edmar.ade@gmail.com</td>\n",
       "      <td>Jose Edmar Siqueira</td>\n",
       "    </tr>\n",
       "    <tr>\n",
       "      <th>1</th>\n",
       "      <td>lucas@hotmail.com</td>\n",
       "      <td>Lucas Siqueira</td>\n",
       "    </tr>\n",
       "    <tr>\n",
       "      <th>2</th>\n",
       "      <td>adeguimar@gmail.com</td>\n",
       "      <td>Adeguimar Lacerda</td>\n",
       "    </tr>\n",
       "  </tbody>\n",
       "</table>\n",
       "</div>"
      ],
      "text/plain": [
       "                 email            Full_name\n",
       "0  edmar.ade@gmail.com  Jose Edmar Siqueira\n",
       "1    lucas@hotmail.com       Lucas Siqueira\n",
       "2  adeguimar@gmail.com    Adeguimar Lacerda"
      ]
     },
     "execution_count": 10,
     "metadata": {},
     "output_type": "execute_result"
    }
   ],
   "source": [
    "#agora podemos ver a mudança no DataFrame\n",
    "df"
   ]
  },
  {
   "cell_type": "code",
   "execution_count": 12,
   "id": "0395e642",
   "metadata": {},
   "outputs": [
    {
     "data": {
      "text/plain": [
       "0    [Jose, Edmar, Siqueira]\n",
       "1          [Lucas, Siqueira]\n",
       "2       [Adeguimar, Lacerda]\n",
       "Name: Full_name, dtype: object"
      ]
     },
     "execution_count": 12,
     "metadata": {},
     "output_type": "execute_result"
    }
   ],
   "source": [
    "#vamos voltar a tabela como estava com metodo split\n",
    "df['Full_name'].str.split(' ')"
   ]
  },
  {
   "cell_type": "code",
   "execution_count": 13,
   "id": "0634c7c7",
   "metadata": {},
   "outputs": [
    {
     "data": {
      "text/html": [
       "<div>\n",
       "<style scoped>\n",
       "    .dataframe tbody tr th:only-of-type {\n",
       "        vertical-align: middle;\n",
       "    }\n",
       "\n",
       "    .dataframe tbody tr th {\n",
       "        vertical-align: top;\n",
       "    }\n",
       "\n",
       "    .dataframe thead th {\n",
       "        text-align: right;\n",
       "    }\n",
       "</style>\n",
       "<table border=\"1\" class=\"dataframe\">\n",
       "  <thead>\n",
       "    <tr style=\"text-align: right;\">\n",
       "      <th></th>\n",
       "      <th>email</th>\n",
       "      <th>Full_name</th>\n",
       "    </tr>\n",
       "  </thead>\n",
       "  <tbody>\n",
       "    <tr>\n",
       "      <th>0</th>\n",
       "      <td>edmar.ade@gmail.com</td>\n",
       "      <td>Jose Edmar Siqueira</td>\n",
       "    </tr>\n",
       "    <tr>\n",
       "      <th>1</th>\n",
       "      <td>lucas@hotmail.com</td>\n",
       "      <td>Lucas Siqueira</td>\n",
       "    </tr>\n",
       "    <tr>\n",
       "      <th>2</th>\n",
       "      <td>adeguimar@gmail.com</td>\n",
       "      <td>Adeguimar Lacerda</td>\n",
       "    </tr>\n",
       "  </tbody>\n",
       "</table>\n",
       "</div>"
      ],
      "text/plain": [
       "                 email            Full_name\n",
       "0  edmar.ade@gmail.com  Jose Edmar Siqueira\n",
       "1    lucas@hotmail.com       Lucas Siqueira\n",
       "2  adeguimar@gmail.com    Adeguimar Lacerda"
      ]
     },
     "execution_count": 13,
     "metadata": {},
     "output_type": "execute_result"
    }
   ],
   "source": [
    "df"
   ]
  },
  {
   "cell_type": "code",
   "execution_count": 16,
   "id": "d43a0bc9",
   "metadata": {},
   "outputs": [],
   "source": [
    "#modificar o nome para funcionar o split\n",
    "df.loc[0, 'Full_name'] = 'Jose_edmar Siqueira'"
   ]
  },
  {
   "cell_type": "code",
   "execution_count": 17,
   "id": "f724edb7",
   "metadata": {},
   "outputs": [
    {
     "data": {
      "text/html": [
       "<div>\n",
       "<style scoped>\n",
       "    .dataframe tbody tr th:only-of-type {\n",
       "        vertical-align: middle;\n",
       "    }\n",
       "\n",
       "    .dataframe tbody tr th {\n",
       "        vertical-align: top;\n",
       "    }\n",
       "\n",
       "    .dataframe thead th {\n",
       "        text-align: right;\n",
       "    }\n",
       "</style>\n",
       "<table border=\"1\" class=\"dataframe\">\n",
       "  <thead>\n",
       "    <tr style=\"text-align: right;\">\n",
       "      <th></th>\n",
       "      <th>email</th>\n",
       "      <th>Full_name</th>\n",
       "    </tr>\n",
       "  </thead>\n",
       "  <tbody>\n",
       "    <tr>\n",
       "      <th>0</th>\n",
       "      <td>edmar.ade@gmail.com</td>\n",
       "      <td>Jose_edmar Siqueira</td>\n",
       "    </tr>\n",
       "    <tr>\n",
       "      <th>1</th>\n",
       "      <td>lucas@hotmail.com</td>\n",
       "      <td>Lucas Siqueira</td>\n",
       "    </tr>\n",
       "    <tr>\n",
       "      <th>2</th>\n",
       "      <td>adeguimar@gmail.com</td>\n",
       "      <td>Adeguimar Lacerda</td>\n",
       "    </tr>\n",
       "  </tbody>\n",
       "</table>\n",
       "</div>"
      ],
      "text/plain": [
       "                 email            Full_name\n",
       "0  edmar.ade@gmail.com  Jose_edmar Siqueira\n",
       "1    lucas@hotmail.com       Lucas Siqueira\n",
       "2  adeguimar@gmail.com    Adeguimar Lacerda"
      ]
     },
     "execution_count": 17,
     "metadata": {},
     "output_type": "execute_result"
    }
   ],
   "source": [
    "df"
   ]
  },
  {
   "cell_type": "code",
   "execution_count": 18,
   "id": "18b960f6",
   "metadata": {},
   "outputs": [
    {
     "data": {
      "text/plain": [
       "0    [Jose_edmar, Siqueira]\n",
       "1         [Lucas, Siqueira]\n",
       "2      [Adeguimar, Lacerda]\n",
       "Name: Full_name, dtype: object"
      ]
     },
     "execution_count": 18,
     "metadata": {},
     "output_type": "execute_result"
    }
   ],
   "source": [
    "#Executar novamente etodo split\n",
    "df['Full_name'].str.split(' ')"
   ]
  },
  {
   "cell_type": "code",
   "execution_count": 20,
   "id": "d8dd6614",
   "metadata": {},
   "outputs": [
    {
     "data": {
      "text/html": [
       "<div>\n",
       "<style scoped>\n",
       "    .dataframe tbody tr th:only-of-type {\n",
       "        vertical-align: middle;\n",
       "    }\n",
       "\n",
       "    .dataframe tbody tr th {\n",
       "        vertical-align: top;\n",
       "    }\n",
       "\n",
       "    .dataframe thead th {\n",
       "        text-align: right;\n",
       "    }\n",
       "</style>\n",
       "<table border=\"1\" class=\"dataframe\">\n",
       "  <thead>\n",
       "    <tr style=\"text-align: right;\">\n",
       "      <th></th>\n",
       "      <th>0</th>\n",
       "      <th>1</th>\n",
       "    </tr>\n",
       "  </thead>\n",
       "  <tbody>\n",
       "    <tr>\n",
       "      <th>0</th>\n",
       "      <td>Jose_edmar</td>\n",
       "      <td>Siqueira</td>\n",
       "    </tr>\n",
       "    <tr>\n",
       "      <th>1</th>\n",
       "      <td>Lucas</td>\n",
       "      <td>Siqueira</td>\n",
       "    </tr>\n",
       "    <tr>\n",
       "      <th>2</th>\n",
       "      <td>Adeguimar</td>\n",
       "      <td>Lacerda</td>\n",
       "    </tr>\n",
       "  </tbody>\n",
       "</table>\n",
       "</div>"
      ],
      "text/plain": [
       "            0         1\n",
       "0  Jose_edmar  Siqueira\n",
       "1       Lucas  Siqueira\n",
       "2   Adeguimar   Lacerda"
      ]
     },
     "execution_count": 20,
     "metadata": {},
     "output_type": "execute_result"
    }
   ],
   "source": [
    "#Para expandir a lista devemos usar o metodo expand\n",
    "df['Full_name'].str.split(' ', expand=True)"
   ]
  },
  {
   "cell_type": "code",
   "execution_count": 22,
   "id": "5442f31c",
   "metadata": {},
   "outputs": [],
   "source": [
    "#agora podemos criar novamente os campo na DataFrame\n",
    "df[['first', 'last']] = df['Full_name'].str.split(' ', expand=True)"
   ]
  },
  {
   "cell_type": "code",
   "execution_count": 23,
   "id": "435b52bf",
   "metadata": {},
   "outputs": [
    {
     "data": {
      "text/html": [
       "<div>\n",
       "<style scoped>\n",
       "    .dataframe tbody tr th:only-of-type {\n",
       "        vertical-align: middle;\n",
       "    }\n",
       "\n",
       "    .dataframe tbody tr th {\n",
       "        vertical-align: top;\n",
       "    }\n",
       "\n",
       "    .dataframe thead th {\n",
       "        text-align: right;\n",
       "    }\n",
       "</style>\n",
       "<table border=\"1\" class=\"dataframe\">\n",
       "  <thead>\n",
       "    <tr style=\"text-align: right;\">\n",
       "      <th></th>\n",
       "      <th>email</th>\n",
       "      <th>Full_name</th>\n",
       "      <th>first</th>\n",
       "      <th>last</th>\n",
       "    </tr>\n",
       "  </thead>\n",
       "  <tbody>\n",
       "    <tr>\n",
       "      <th>0</th>\n",
       "      <td>edmar.ade@gmail.com</td>\n",
       "      <td>Jose_edmar Siqueira</td>\n",
       "      <td>Jose_edmar</td>\n",
       "      <td>Siqueira</td>\n",
       "    </tr>\n",
       "    <tr>\n",
       "      <th>1</th>\n",
       "      <td>lucas@hotmail.com</td>\n",
       "      <td>Lucas Siqueira</td>\n",
       "      <td>Lucas</td>\n",
       "      <td>Siqueira</td>\n",
       "    </tr>\n",
       "    <tr>\n",
       "      <th>2</th>\n",
       "      <td>adeguimar@gmail.com</td>\n",
       "      <td>Adeguimar Lacerda</td>\n",
       "      <td>Adeguimar</td>\n",
       "      <td>Lacerda</td>\n",
       "    </tr>\n",
       "  </tbody>\n",
       "</table>\n",
       "</div>"
      ],
      "text/plain": [
       "                 email            Full_name       first      last\n",
       "0  edmar.ade@gmail.com  Jose_edmar Siqueira  Jose_edmar  Siqueira\n",
       "1    lucas@hotmail.com       Lucas Siqueira       Lucas  Siqueira\n",
       "2  adeguimar@gmail.com    Adeguimar Lacerda   Adeguimar   Lacerda"
      ]
     },
     "execution_count": 23,
     "metadata": {},
     "output_type": "execute_result"
    }
   ],
   "source": [
    "df"
   ]
  },
  {
   "cell_type": "code",
   "execution_count": 26,
   "id": "2ec5d9c6",
   "metadata": {},
   "outputs": [],
   "source": [
    "#Modificar a coluna First e tirar o idenline do nome\n",
    "df.loc[0, 'first'] = 'Jose Edmar'"
   ]
  },
  {
   "cell_type": "code",
   "execution_count": 27,
   "id": "cc21f5a8",
   "metadata": {},
   "outputs": [
    {
     "data": {
      "text/html": [
       "<div>\n",
       "<style scoped>\n",
       "    .dataframe tbody tr th:only-of-type {\n",
       "        vertical-align: middle;\n",
       "    }\n",
       "\n",
       "    .dataframe tbody tr th {\n",
       "        vertical-align: top;\n",
       "    }\n",
       "\n",
       "    .dataframe thead th {\n",
       "        text-align: right;\n",
       "    }\n",
       "</style>\n",
       "<table border=\"1\" class=\"dataframe\">\n",
       "  <thead>\n",
       "    <tr style=\"text-align: right;\">\n",
       "      <th></th>\n",
       "      <th>email</th>\n",
       "      <th>Full_name</th>\n",
       "      <th>first</th>\n",
       "      <th>last</th>\n",
       "    </tr>\n",
       "  </thead>\n",
       "  <tbody>\n",
       "    <tr>\n",
       "      <th>0</th>\n",
       "      <td>edmar.ade@gmail.com</td>\n",
       "      <td>Jose_edmar Siqueira</td>\n",
       "      <td>Jose Edmar</td>\n",
       "      <td>Siqueira</td>\n",
       "    </tr>\n",
       "    <tr>\n",
       "      <th>1</th>\n",
       "      <td>lucas@hotmail.com</td>\n",
       "      <td>Lucas Siqueira</td>\n",
       "      <td>Lucas</td>\n",
       "      <td>Siqueira</td>\n",
       "    </tr>\n",
       "    <tr>\n",
       "      <th>2</th>\n",
       "      <td>adeguimar@gmail.com</td>\n",
       "      <td>Adeguimar Lacerda</td>\n",
       "      <td>Adeguimar</td>\n",
       "      <td>Lacerda</td>\n",
       "    </tr>\n",
       "  </tbody>\n",
       "</table>\n",
       "</div>"
      ],
      "text/plain": [
       "                 email            Full_name       first      last\n",
       "0  edmar.ade@gmail.com  Jose_edmar Siqueira  Jose Edmar  Siqueira\n",
       "1    lucas@hotmail.com       Lucas Siqueira       Lucas  Siqueira\n",
       "2  adeguimar@gmail.com    Adeguimar Lacerda   Adeguimar   Lacerda"
      ]
     },
     "execution_count": 27,
     "metadata": {},
     "output_type": "execute_result"
    }
   ],
   "source": [
    "df"
   ]
  },
  {
   "cell_type": "code",
   "execution_count": 29,
   "id": "996f38a2",
   "metadata": {},
   "outputs": [
    {
     "data": {
      "text/html": [
       "<div>\n",
       "<style scoped>\n",
       "    .dataframe tbody tr th:only-of-type {\n",
       "        vertical-align: middle;\n",
       "    }\n",
       "\n",
       "    .dataframe tbody tr th {\n",
       "        vertical-align: top;\n",
       "    }\n",
       "\n",
       "    .dataframe thead th {\n",
       "        text-align: right;\n",
       "    }\n",
       "</style>\n",
       "<table border=\"1\" class=\"dataframe\">\n",
       "  <thead>\n",
       "    <tr style=\"text-align: right;\">\n",
       "      <th></th>\n",
       "      <th>email</th>\n",
       "      <th>Full_name</th>\n",
       "      <th>first</th>\n",
       "      <th>last</th>\n",
       "    </tr>\n",
       "  </thead>\n",
       "  <tbody>\n",
       "    <tr>\n",
       "      <th>0</th>\n",
       "      <td>edmar.ade@gmail.com</td>\n",
       "      <td>Jose_edmar Siqueira</td>\n",
       "      <td>Jose Edmar</td>\n",
       "      <td>Siqueira</td>\n",
       "    </tr>\n",
       "    <tr>\n",
       "      <th>1</th>\n",
       "      <td>lucas@hotmail.com</td>\n",
       "      <td>Lucas Siqueira</td>\n",
       "      <td>Lucas</td>\n",
       "      <td>Siqueira</td>\n",
       "    </tr>\n",
       "    <tr>\n",
       "      <th>2</th>\n",
       "      <td>adeguimar@gmail.com</td>\n",
       "      <td>Adeguimar Lacerda</td>\n",
       "      <td>Adeguimar</td>\n",
       "      <td>Lacerda</td>\n",
       "    </tr>\n",
       "    <tr>\n",
       "      <th>3</th>\n",
       "      <td>NaN</td>\n",
       "      <td>NaN</td>\n",
       "      <td>Tony</td>\n",
       "      <td>NaN</td>\n",
       "    </tr>\n",
       "  </tbody>\n",
       "</table>\n",
       "</div>"
      ],
      "text/plain": [
       "                 email            Full_name       first      last\n",
       "0  edmar.ade@gmail.com  Jose_edmar Siqueira  Jose Edmar  Siqueira\n",
       "1    lucas@hotmail.com       Lucas Siqueira       Lucas  Siqueira\n",
       "2  adeguimar@gmail.com    Adeguimar Lacerda   Adeguimar   Lacerda\n",
       "3                  NaN                  NaN        Tony       NaN"
      ]
     },
     "execution_count": 29,
     "metadata": {},
     "output_type": "execute_result"
    }
   ],
   "source": [
    "# Adicionar uma unica linha ao DataFrame, para isso usamos append com paramentro ignore_index\n",
    "df.append({'first':'Tony'}, ignore_index=True)\n"
   ]
  },
  {
   "cell_type": "code",
   "execution_count": 33,
   "id": "93a552d7",
   "metadata": {},
   "outputs": [],
   "source": [
    "# Criar objeto para adcionar no DataFrame\n",
    "people = {\n",
    "    'first': ['Maria','Jonathan',],\n",
    "    'last': ['Siqueira', 'Silva',],\n",
    "    'email': ['maria@gmail.com','jonathan@gmail.com']\n",
    "}\n",
    "df2 =  pd.DataFrame(people)"
   ]
  },
  {
   "cell_type": "code",
   "execution_count": 34,
   "id": "e1084930",
   "metadata": {},
   "outputs": [
    {
     "data": {
      "text/html": [
       "<div>\n",
       "<style scoped>\n",
       "    .dataframe tbody tr th:only-of-type {\n",
       "        vertical-align: middle;\n",
       "    }\n",
       "\n",
       "    .dataframe tbody tr th {\n",
       "        vertical-align: top;\n",
       "    }\n",
       "\n",
       "    .dataframe thead th {\n",
       "        text-align: right;\n",
       "    }\n",
       "</style>\n",
       "<table border=\"1\" class=\"dataframe\">\n",
       "  <thead>\n",
       "    <tr style=\"text-align: right;\">\n",
       "      <th></th>\n",
       "      <th>first</th>\n",
       "      <th>last</th>\n",
       "      <th>email</th>\n",
       "    </tr>\n",
       "  </thead>\n",
       "  <tbody>\n",
       "    <tr>\n",
       "      <th>0</th>\n",
       "      <td>Maria</td>\n",
       "      <td>Siqueira</td>\n",
       "      <td>maria@gmail.com</td>\n",
       "    </tr>\n",
       "    <tr>\n",
       "      <th>1</th>\n",
       "      <td>Jonathan</td>\n",
       "      <td>Silva</td>\n",
       "      <td>jonathan@gmail.com</td>\n",
       "    </tr>\n",
       "  </tbody>\n",
       "</table>\n",
       "</div>"
      ],
      "text/plain": [
       "      first      last               email\n",
       "0     Maria  Siqueira     maria@gmail.com\n",
       "1  Jonathan     Silva  jonathan@gmail.com"
      ]
     },
     "execution_count": 34,
     "metadata": {},
     "output_type": "execute_result"
    }
   ],
   "source": [
    "df2"
   ]
  },
  {
   "cell_type": "code",
   "execution_count": 37,
   "id": "da968291",
   "metadata": {},
   "outputs": [
    {
     "data": {
      "text/html": [
       "<div>\n",
       "<style scoped>\n",
       "    .dataframe tbody tr th:only-of-type {\n",
       "        vertical-align: middle;\n",
       "    }\n",
       "\n",
       "    .dataframe tbody tr th {\n",
       "        vertical-align: top;\n",
       "    }\n",
       "\n",
       "    .dataframe thead th {\n",
       "        text-align: right;\n",
       "    }\n",
       "</style>\n",
       "<table border=\"1\" class=\"dataframe\">\n",
       "  <thead>\n",
       "    <tr style=\"text-align: right;\">\n",
       "      <th></th>\n",
       "      <th>email</th>\n",
       "      <th>Full_name</th>\n",
       "      <th>first</th>\n",
       "      <th>last</th>\n",
       "    </tr>\n",
       "  </thead>\n",
       "  <tbody>\n",
       "    <tr>\n",
       "      <th>0</th>\n",
       "      <td>edmar.ade@gmail.com</td>\n",
       "      <td>Jose_edmar Siqueira</td>\n",
       "      <td>Jose Edmar</td>\n",
       "      <td>Siqueira</td>\n",
       "    </tr>\n",
       "    <tr>\n",
       "      <th>1</th>\n",
       "      <td>lucas@hotmail.com</td>\n",
       "      <td>Lucas Siqueira</td>\n",
       "      <td>Lucas</td>\n",
       "      <td>Siqueira</td>\n",
       "    </tr>\n",
       "    <tr>\n",
       "      <th>2</th>\n",
       "      <td>adeguimar@gmail.com</td>\n",
       "      <td>Adeguimar Lacerda</td>\n",
       "      <td>Adeguimar</td>\n",
       "      <td>Lacerda</td>\n",
       "    </tr>\n",
       "    <tr>\n",
       "      <th>3</th>\n",
       "      <td>maria@gmail.com</td>\n",
       "      <td>NaN</td>\n",
       "      <td>Maria</td>\n",
       "      <td>Siqueira</td>\n",
       "    </tr>\n",
       "    <tr>\n",
       "      <th>4</th>\n",
       "      <td>jonathan@gmail.com</td>\n",
       "      <td>NaN</td>\n",
       "      <td>Jonathan</td>\n",
       "      <td>Silva</td>\n",
       "    </tr>\n",
       "  </tbody>\n",
       "</table>\n",
       "</div>"
      ],
      "text/plain": [
       "                 email            Full_name       first      last\n",
       "0  edmar.ade@gmail.com  Jose_edmar Siqueira  Jose Edmar  Siqueira\n",
       "1    lucas@hotmail.com       Lucas Siqueira       Lucas  Siqueira\n",
       "2  adeguimar@gmail.com    Adeguimar Lacerda   Adeguimar   Lacerda\n",
       "3      maria@gmail.com                  NaN       Maria  Siqueira\n",
       "4   jonathan@gmail.com                  NaN    Jonathan     Silva"
      ]
     },
     "execution_count": 37,
     "metadata": {},
     "output_type": "execute_result"
    }
   ],
   "source": [
    "#Adionar Df2 no DF\n",
    "df.append(df2, ignore_index=True)"
   ]
  },
  {
   "cell_type": "code",
   "execution_count": 40,
   "id": "262cc22f",
   "metadata": {},
   "outputs": [],
   "source": [
    "#Incluir a mudança no DF \n",
    "df = df.append(df2, ignore_index=True)"
   ]
  },
  {
   "cell_type": "code",
   "execution_count": 41,
   "id": "cbdf195e",
   "metadata": {},
   "outputs": [
    {
     "data": {
      "text/html": [
       "<div>\n",
       "<style scoped>\n",
       "    .dataframe tbody tr th:only-of-type {\n",
       "        vertical-align: middle;\n",
       "    }\n",
       "\n",
       "    .dataframe tbody tr th {\n",
       "        vertical-align: top;\n",
       "    }\n",
       "\n",
       "    .dataframe thead th {\n",
       "        text-align: right;\n",
       "    }\n",
       "</style>\n",
       "<table border=\"1\" class=\"dataframe\">\n",
       "  <thead>\n",
       "    <tr style=\"text-align: right;\">\n",
       "      <th></th>\n",
       "      <th>email</th>\n",
       "      <th>Full_name</th>\n",
       "      <th>first</th>\n",
       "      <th>last</th>\n",
       "    </tr>\n",
       "  </thead>\n",
       "  <tbody>\n",
       "    <tr>\n",
       "      <th>0</th>\n",
       "      <td>edmar.ade@gmail.com</td>\n",
       "      <td>Jose_edmar Siqueira</td>\n",
       "      <td>Jose Edmar</td>\n",
       "      <td>Siqueira</td>\n",
       "    </tr>\n",
       "    <tr>\n",
       "      <th>1</th>\n",
       "      <td>lucas@hotmail.com</td>\n",
       "      <td>Lucas Siqueira</td>\n",
       "      <td>Lucas</td>\n",
       "      <td>Siqueira</td>\n",
       "    </tr>\n",
       "    <tr>\n",
       "      <th>2</th>\n",
       "      <td>adeguimar@gmail.com</td>\n",
       "      <td>Adeguimar Lacerda</td>\n",
       "      <td>Adeguimar</td>\n",
       "      <td>Lacerda</td>\n",
       "    </tr>\n",
       "    <tr>\n",
       "      <th>3</th>\n",
       "      <td>maria@gmail.com</td>\n",
       "      <td>NaN</td>\n",
       "      <td>Maria</td>\n",
       "      <td>Siqueira</td>\n",
       "    </tr>\n",
       "    <tr>\n",
       "      <th>4</th>\n",
       "      <td>jonathan@gmail.com</td>\n",
       "      <td>NaN</td>\n",
       "      <td>Jonathan</td>\n",
       "      <td>Silva</td>\n",
       "    </tr>\n",
       "  </tbody>\n",
       "</table>\n",
       "</div>"
      ],
      "text/plain": [
       "                 email            Full_name       first      last\n",
       "0  edmar.ade@gmail.com  Jose_edmar Siqueira  Jose Edmar  Siqueira\n",
       "1    lucas@hotmail.com       Lucas Siqueira       Lucas  Siqueira\n",
       "2  adeguimar@gmail.com    Adeguimar Lacerda   Adeguimar   Lacerda\n",
       "3      maria@gmail.com                  NaN       Maria  Siqueira\n",
       "4   jonathan@gmail.com                  NaN    Jonathan     Silva"
      ]
     },
     "execution_count": 41,
     "metadata": {},
     "output_type": "execute_result"
    }
   ],
   "source": [
    "#visualizar as mudanças\n",
    "df"
   ]
  },
  {
   "cell_type": "code",
   "execution_count": 42,
   "id": "abd0294a",
   "metadata": {},
   "outputs": [
    {
     "data": {
      "text/html": [
       "<div>\n",
       "<style scoped>\n",
       "    .dataframe tbody tr th:only-of-type {\n",
       "        vertical-align: middle;\n",
       "    }\n",
       "\n",
       "    .dataframe tbody tr th {\n",
       "        vertical-align: top;\n",
       "    }\n",
       "\n",
       "    .dataframe thead th {\n",
       "        text-align: right;\n",
       "    }\n",
       "</style>\n",
       "<table border=\"1\" class=\"dataframe\">\n",
       "  <thead>\n",
       "    <tr style=\"text-align: right;\">\n",
       "      <th></th>\n",
       "      <th>email</th>\n",
       "      <th>Full_name</th>\n",
       "      <th>first</th>\n",
       "      <th>last</th>\n",
       "    </tr>\n",
       "  </thead>\n",
       "  <tbody>\n",
       "    <tr>\n",
       "      <th>0</th>\n",
       "      <td>edmar.ade@gmail.com</td>\n",
       "      <td>Jose_edmar Siqueira</td>\n",
       "      <td>Jose Edmar</td>\n",
       "      <td>Siqueira</td>\n",
       "    </tr>\n",
       "    <tr>\n",
       "      <th>1</th>\n",
       "      <td>lucas@hotmail.com</td>\n",
       "      <td>Lucas Siqueira</td>\n",
       "      <td>Lucas</td>\n",
       "      <td>Siqueira</td>\n",
       "    </tr>\n",
       "    <tr>\n",
       "      <th>2</th>\n",
       "      <td>adeguimar@gmail.com</td>\n",
       "      <td>Adeguimar Lacerda</td>\n",
       "      <td>Adeguimar</td>\n",
       "      <td>Lacerda</td>\n",
       "    </tr>\n",
       "    <tr>\n",
       "      <th>3</th>\n",
       "      <td>maria@gmail.com</td>\n",
       "      <td>NaN</td>\n",
       "      <td>Maria</td>\n",
       "      <td>Siqueira</td>\n",
       "    </tr>\n",
       "  </tbody>\n",
       "</table>\n",
       "</div>"
      ],
      "text/plain": [
       "                 email            Full_name       first      last\n",
       "0  edmar.ade@gmail.com  Jose_edmar Siqueira  Jose Edmar  Siqueira\n",
       "1    lucas@hotmail.com       Lucas Siqueira       Lucas  Siqueira\n",
       "2  adeguimar@gmail.com    Adeguimar Lacerda   Adeguimar   Lacerda\n",
       "3      maria@gmail.com                  NaN       Maria  Siqueira"
      ]
     },
     "execution_count": 42,
     "metadata": {},
     "output_type": "execute_result"
    }
   ],
   "source": [
    "#remover uma linha\n",
    "df.drop(index=4)"
   ]
  },
  {
   "cell_type": "code",
   "execution_count": 43,
   "id": "5c8c5a82",
   "metadata": {},
   "outputs": [
    {
     "data": {
      "text/html": [
       "<div>\n",
       "<style scoped>\n",
       "    .dataframe tbody tr th:only-of-type {\n",
       "        vertical-align: middle;\n",
       "    }\n",
       "\n",
       "    .dataframe tbody tr th {\n",
       "        vertical-align: top;\n",
       "    }\n",
       "\n",
       "    .dataframe thead th {\n",
       "        text-align: right;\n",
       "    }\n",
       "</style>\n",
       "<table border=\"1\" class=\"dataframe\">\n",
       "  <thead>\n",
       "    <tr style=\"text-align: right;\">\n",
       "      <th></th>\n",
       "      <th>email</th>\n",
       "      <th>Full_name</th>\n",
       "      <th>first</th>\n",
       "      <th>last</th>\n",
       "    </tr>\n",
       "  </thead>\n",
       "  <tbody>\n",
       "    <tr>\n",
       "      <th>0</th>\n",
       "      <td>edmar.ade@gmail.com</td>\n",
       "      <td>Jose_edmar Siqueira</td>\n",
       "      <td>Jose Edmar</td>\n",
       "      <td>Siqueira</td>\n",
       "    </tr>\n",
       "    <tr>\n",
       "      <th>1</th>\n",
       "      <td>lucas@hotmail.com</td>\n",
       "      <td>Lucas Siqueira</td>\n",
       "      <td>Lucas</td>\n",
       "      <td>Siqueira</td>\n",
       "    </tr>\n",
       "    <tr>\n",
       "      <th>2</th>\n",
       "      <td>adeguimar@gmail.com</td>\n",
       "      <td>Adeguimar Lacerda</td>\n",
       "      <td>Adeguimar</td>\n",
       "      <td>Lacerda</td>\n",
       "    </tr>\n",
       "    <tr>\n",
       "      <th>3</th>\n",
       "      <td>maria@gmail.com</td>\n",
       "      <td>NaN</td>\n",
       "      <td>Maria</td>\n",
       "      <td>Siqueira</td>\n",
       "    </tr>\n",
       "    <tr>\n",
       "      <th>4</th>\n",
       "      <td>jonathan@gmail.com</td>\n",
       "      <td>NaN</td>\n",
       "      <td>Jonathan</td>\n",
       "      <td>Silva</td>\n",
       "    </tr>\n",
       "  </tbody>\n",
       "</table>\n",
       "</div>"
      ],
      "text/plain": [
       "                 email            Full_name       first      last\n",
       "0  edmar.ade@gmail.com  Jose_edmar Siqueira  Jose Edmar  Siqueira\n",
       "1    lucas@hotmail.com       Lucas Siqueira       Lucas  Siqueira\n",
       "2  adeguimar@gmail.com    Adeguimar Lacerda   Adeguimar   Lacerda\n",
       "3      maria@gmail.com                  NaN       Maria  Siqueira\n",
       "4   jonathan@gmail.com                  NaN    Jonathan     Silva"
      ]
     },
     "execution_count": 43,
     "metadata": {},
     "output_type": "execute_result"
    }
   ],
   "source": [
    "#como vemos ele ainda está vamos fazer realmente a mudança\n",
    "df"
   ]
  },
  {
   "cell_type": "code",
   "execution_count": 46,
   "id": "a495e46c",
   "metadata": {},
   "outputs": [
    {
     "data": {
      "text/html": [
       "<div>\n",
       "<style scoped>\n",
       "    .dataframe tbody tr th:only-of-type {\n",
       "        vertical-align: middle;\n",
       "    }\n",
       "\n",
       "    .dataframe tbody tr th {\n",
       "        vertical-align: top;\n",
       "    }\n",
       "\n",
       "    .dataframe thead th {\n",
       "        text-align: right;\n",
       "    }\n",
       "</style>\n",
       "<table border=\"1\" class=\"dataframe\">\n",
       "  <thead>\n",
       "    <tr style=\"text-align: right;\">\n",
       "      <th></th>\n",
       "      <th>email</th>\n",
       "      <th>Full_name</th>\n",
       "      <th>first</th>\n",
       "      <th>last</th>\n",
       "    </tr>\n",
       "  </thead>\n",
       "  <tbody>\n",
       "    <tr>\n",
       "      <th>2</th>\n",
       "      <td>adeguimar@gmail.com</td>\n",
       "      <td>Adeguimar Lacerda</td>\n",
       "      <td>Adeguimar</td>\n",
       "      <td>Lacerda</td>\n",
       "    </tr>\n",
       "    <tr>\n",
       "      <th>4</th>\n",
       "      <td>jonathan@gmail.com</td>\n",
       "      <td>NaN</td>\n",
       "      <td>Jonathan</td>\n",
       "      <td>Silva</td>\n",
       "    </tr>\n",
       "  </tbody>\n",
       "</table>\n",
       "</div>"
      ],
      "text/plain": [
       "                 email          Full_name      first     last\n",
       "2  adeguimar@gmail.com  Adeguimar Lacerda  Adeguimar  Lacerda\n",
       "4   jonathan@gmail.com                NaN   Jonathan    Silva"
      ]
     },
     "execution_count": 46,
     "metadata": {},
     "output_type": "execute_result"
    }
   ],
   "source": [
    "#vamos usar um filtro para pegar os id, vai remover todos que tem com last igual ao filtro\n",
    "filt = df['last'] == 'Siqueira'\n",
    "df.drop(index=df[filt].index)"
   ]
  },
  {
   "cell_type": "code",
   "execution_count": 45,
   "id": "5f7d64ac",
   "metadata": {},
   "outputs": [
    {
     "data": {
      "text/html": [
       "<div>\n",
       "<style scoped>\n",
       "    .dataframe tbody tr th:only-of-type {\n",
       "        vertical-align: middle;\n",
       "    }\n",
       "\n",
       "    .dataframe tbody tr th {\n",
       "        vertical-align: top;\n",
       "    }\n",
       "\n",
       "    .dataframe thead th {\n",
       "        text-align: right;\n",
       "    }\n",
       "</style>\n",
       "<table border=\"1\" class=\"dataframe\">\n",
       "  <thead>\n",
       "    <tr style=\"text-align: right;\">\n",
       "      <th></th>\n",
       "      <th>email</th>\n",
       "      <th>Full_name</th>\n",
       "      <th>first</th>\n",
       "      <th>last</th>\n",
       "    </tr>\n",
       "  </thead>\n",
       "  <tbody>\n",
       "    <tr>\n",
       "      <th>0</th>\n",
       "      <td>edmar.ade@gmail.com</td>\n",
       "      <td>Jose_edmar Siqueira</td>\n",
       "      <td>Jose Edmar</td>\n",
       "      <td>Siqueira</td>\n",
       "    </tr>\n",
       "    <tr>\n",
       "      <th>1</th>\n",
       "      <td>lucas@hotmail.com</td>\n",
       "      <td>Lucas Siqueira</td>\n",
       "      <td>Lucas</td>\n",
       "      <td>Siqueira</td>\n",
       "    </tr>\n",
       "    <tr>\n",
       "      <th>2</th>\n",
       "      <td>adeguimar@gmail.com</td>\n",
       "      <td>Adeguimar Lacerda</td>\n",
       "      <td>Adeguimar</td>\n",
       "      <td>Lacerda</td>\n",
       "    </tr>\n",
       "    <tr>\n",
       "      <th>3</th>\n",
       "      <td>maria@gmail.com</td>\n",
       "      <td>NaN</td>\n",
       "      <td>Maria</td>\n",
       "      <td>Siqueira</td>\n",
       "    </tr>\n",
       "    <tr>\n",
       "      <th>4</th>\n",
       "      <td>jonathan@gmail.com</td>\n",
       "      <td>NaN</td>\n",
       "      <td>Jonathan</td>\n",
       "      <td>Silva</td>\n",
       "    </tr>\n",
       "  </tbody>\n",
       "</table>\n",
       "</div>"
      ],
      "text/plain": [
       "                 email            Full_name       first      last\n",
       "0  edmar.ade@gmail.com  Jose_edmar Siqueira  Jose Edmar  Siqueira\n",
       "1    lucas@hotmail.com       Lucas Siqueira       Lucas  Siqueira\n",
       "2  adeguimar@gmail.com    Adeguimar Lacerda   Adeguimar   Lacerda\n",
       "3      maria@gmail.com                  NaN       Maria  Siqueira\n",
       "4   jonathan@gmail.com                  NaN    Jonathan     Silva"
      ]
     },
     "execution_count": 45,
     "metadata": {},
     "output_type": "execute_result"
    }
   ],
   "source": [
    "df"
   ]
  },
  {
   "cell_type": "code",
   "execution_count": null,
   "id": "b458ba59",
   "metadata": {},
   "outputs": [],
   "source": []
  }
 ],
 "metadata": {
  "kernelspec": {
   "display_name": "Python 3 (ipykernel)",
   "language": "python",
   "name": "python3"
  },
  "language_info": {
   "codemirror_mode": {
    "name": "ipython",
    "version": 3
   },
   "file_extension": ".py",
   "mimetype": "text/x-python",
   "name": "python",
   "nbconvert_exporter": "python",
   "pygments_lexer": "ipython3",
   "version": "3.8.6"
  }
 },
 "nbformat": 4,
 "nbformat_minor": 5
}
