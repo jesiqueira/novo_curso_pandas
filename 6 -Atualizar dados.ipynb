{
 "cells": [
  {
   "cell_type": "code",
   "execution_count": 61,
   "id": "66598b42",
   "metadata": {},
   "outputs": [],
   "source": [
    "import pandas as pd"
   ]
  },
  {
   "cell_type": "code",
   "execution_count": 62,
   "id": "324f2213",
   "metadata": {},
   "outputs": [],
   "source": [
    "people = {\n",
    "    'first': ['Jose Edmar','Lucas', 'Adeguimar'],\n",
    "    'last': ['Siqueira', 'Siqueira', 'Lacerda'],\n",
    "    'email': ['edmar.ade@gmail.com', 'lucas@hotmail.com','adeguimar@gmail.com']\n",
    "}"
   ]
  },
  {
   "cell_type": "code",
   "execution_count": 63,
   "id": "e5f9c0c3",
   "metadata": {},
   "outputs": [],
   "source": [
    "df = pd.DataFrame(people)"
   ]
  },
  {
   "cell_type": "code",
   "execution_count": 64,
   "id": "006ff3c6",
   "metadata": {},
   "outputs": [
    {
     "data": {
      "text/html": [
       "<div>\n",
       "<style scoped>\n",
       "    .dataframe tbody tr th:only-of-type {\n",
       "        vertical-align: middle;\n",
       "    }\n",
       "\n",
       "    .dataframe tbody tr th {\n",
       "        vertical-align: top;\n",
       "    }\n",
       "\n",
       "    .dataframe thead th {\n",
       "        text-align: right;\n",
       "    }\n",
       "</style>\n",
       "<table border=\"1\" class=\"dataframe\">\n",
       "  <thead>\n",
       "    <tr style=\"text-align: right;\">\n",
       "      <th></th>\n",
       "      <th>first</th>\n",
       "      <th>last</th>\n",
       "      <th>email</th>\n",
       "    </tr>\n",
       "  </thead>\n",
       "  <tbody>\n",
       "    <tr>\n",
       "      <th>0</th>\n",
       "      <td>Jose Edmar</td>\n",
       "      <td>Siqueira</td>\n",
       "      <td>edmar.ade@gmail.com</td>\n",
       "    </tr>\n",
       "    <tr>\n",
       "      <th>1</th>\n",
       "      <td>Lucas</td>\n",
       "      <td>Siqueira</td>\n",
       "      <td>lucas@hotmail.com</td>\n",
       "    </tr>\n",
       "    <tr>\n",
       "      <th>2</th>\n",
       "      <td>Adeguimar</td>\n",
       "      <td>Lacerda</td>\n",
       "      <td>adeguimar@gmail.com</td>\n",
       "    </tr>\n",
       "  </tbody>\n",
       "</table>\n",
       "</div>"
      ],
      "text/plain": [
       "        first      last                email\n",
       "0  Jose Edmar  Siqueira  edmar.ade@gmail.com\n",
       "1       Lucas  Siqueira    lucas@hotmail.com\n",
       "2   Adeguimar   Lacerda  adeguimar@gmail.com"
      ]
     },
     "execution_count": 64,
     "metadata": {},
     "output_type": "execute_result"
    }
   ],
   "source": [
    "df"
   ]
  },
  {
   "cell_type": "code",
   "execution_count": 65,
   "id": "eae154ff",
   "metadata": {},
   "outputs": [
    {
     "data": {
      "text/plain": [
       "Index(['first', 'last', 'email'], dtype='object')"
      ]
     },
     "execution_count": 65,
     "metadata": {},
     "output_type": "execute_result"
    }
   ],
   "source": [
    "#Visualizar as Colunas\n",
    "df.columns"
   ]
  },
  {
   "cell_type": "code",
   "execution_count": 66,
   "id": "b21d0e30",
   "metadata": {},
   "outputs": [],
   "source": [
    "#renomear todas as colunas\n",
    "df.columns = ['first_name', 'last_name', 'email']"
   ]
  },
  {
   "cell_type": "code",
   "execution_count": 67,
   "id": "3d84f78b",
   "metadata": {},
   "outputs": [
    {
     "data": {
      "text/html": [
       "<div>\n",
       "<style scoped>\n",
       "    .dataframe tbody tr th:only-of-type {\n",
       "        vertical-align: middle;\n",
       "    }\n",
       "\n",
       "    .dataframe tbody tr th {\n",
       "        vertical-align: top;\n",
       "    }\n",
       "\n",
       "    .dataframe thead th {\n",
       "        text-align: right;\n",
       "    }\n",
       "</style>\n",
       "<table border=\"1\" class=\"dataframe\">\n",
       "  <thead>\n",
       "    <tr style=\"text-align: right;\">\n",
       "      <th></th>\n",
       "      <th>first_name</th>\n",
       "      <th>last_name</th>\n",
       "      <th>email</th>\n",
       "    </tr>\n",
       "  </thead>\n",
       "  <tbody>\n",
       "    <tr>\n",
       "      <th>0</th>\n",
       "      <td>Jose Edmar</td>\n",
       "      <td>Siqueira</td>\n",
       "      <td>edmar.ade@gmail.com</td>\n",
       "    </tr>\n",
       "    <tr>\n",
       "      <th>1</th>\n",
       "      <td>Lucas</td>\n",
       "      <td>Siqueira</td>\n",
       "      <td>lucas@hotmail.com</td>\n",
       "    </tr>\n",
       "    <tr>\n",
       "      <th>2</th>\n",
       "      <td>Adeguimar</td>\n",
       "      <td>Lacerda</td>\n",
       "      <td>adeguimar@gmail.com</td>\n",
       "    </tr>\n",
       "  </tbody>\n",
       "</table>\n",
       "</div>"
      ],
      "text/plain": [
       "   first_name last_name                email\n",
       "0  Jose Edmar  Siqueira  edmar.ade@gmail.com\n",
       "1       Lucas  Siqueira    lucas@hotmail.com\n",
       "2   Adeguimar   Lacerda  adeguimar@gmail.com"
      ]
     },
     "execution_count": 67,
     "metadata": {},
     "output_type": "execute_result"
    }
   ],
   "source": [
    "#visualizar a mudança\n",
    "df"
   ]
  },
  {
   "cell_type": "code",
   "execution_count": 68,
   "id": "f145c810",
   "metadata": {},
   "outputs": [],
   "source": [
    "#podemos mudar os os nomes das columnas por compreensão de lista\n",
    "#neste exemplo vamos mudar tudo para maiusculo\n",
    "df.columns = [x.upper() for x in df.columns]"
   ]
  },
  {
   "cell_type": "code",
   "execution_count": 69,
   "id": "fcf3c4d6",
   "metadata": {},
   "outputs": [
    {
     "data": {
      "text/html": [
       "<div>\n",
       "<style scoped>\n",
       "    .dataframe tbody tr th:only-of-type {\n",
       "        vertical-align: middle;\n",
       "    }\n",
       "\n",
       "    .dataframe tbody tr th {\n",
       "        vertical-align: top;\n",
       "    }\n",
       "\n",
       "    .dataframe thead th {\n",
       "        text-align: right;\n",
       "    }\n",
       "</style>\n",
       "<table border=\"1\" class=\"dataframe\">\n",
       "  <thead>\n",
       "    <tr style=\"text-align: right;\">\n",
       "      <th></th>\n",
       "      <th>FIRST_NAME</th>\n",
       "      <th>LAST_NAME</th>\n",
       "      <th>EMAIL</th>\n",
       "    </tr>\n",
       "  </thead>\n",
       "  <tbody>\n",
       "    <tr>\n",
       "      <th>0</th>\n",
       "      <td>Jose Edmar</td>\n",
       "      <td>Siqueira</td>\n",
       "      <td>edmar.ade@gmail.com</td>\n",
       "    </tr>\n",
       "    <tr>\n",
       "      <th>1</th>\n",
       "      <td>Lucas</td>\n",
       "      <td>Siqueira</td>\n",
       "      <td>lucas@hotmail.com</td>\n",
       "    </tr>\n",
       "    <tr>\n",
       "      <th>2</th>\n",
       "      <td>Adeguimar</td>\n",
       "      <td>Lacerda</td>\n",
       "      <td>adeguimar@gmail.com</td>\n",
       "    </tr>\n",
       "  </tbody>\n",
       "</table>\n",
       "</div>"
      ],
      "text/plain": [
       "   FIRST_NAME LAST_NAME                EMAIL\n",
       "0  Jose Edmar  Siqueira  edmar.ade@gmail.com\n",
       "1       Lucas  Siqueira    lucas@hotmail.com\n",
       "2   Adeguimar   Lacerda  adeguimar@gmail.com"
      ]
     },
     "execution_count": 69,
     "metadata": {},
     "output_type": "execute_result"
    }
   ],
   "source": [
    "df"
   ]
  },
  {
   "cell_type": "code",
   "execution_count": 70,
   "id": "a3ce6c99",
   "metadata": {},
   "outputs": [
    {
     "data": {
      "text/html": [
       "<div>\n",
       "<style scoped>\n",
       "    .dataframe tbody tr th:only-of-type {\n",
       "        vertical-align: middle;\n",
       "    }\n",
       "\n",
       "    .dataframe tbody tr th {\n",
       "        vertical-align: top;\n",
       "    }\n",
       "\n",
       "    .dataframe thead th {\n",
       "        text-align: right;\n",
       "    }\n",
       "</style>\n",
       "<table border=\"1\" class=\"dataframe\">\n",
       "  <thead>\n",
       "    <tr style=\"text-align: right;\">\n",
       "      <th></th>\n",
       "      <th>FIRST NAME</th>\n",
       "      <th>LAST NAME</th>\n",
       "      <th>EMAIL</th>\n",
       "    </tr>\n",
       "  </thead>\n",
       "  <tbody>\n",
       "    <tr>\n",
       "      <th>0</th>\n",
       "      <td>Jose Edmar</td>\n",
       "      <td>Siqueira</td>\n",
       "      <td>edmar.ade@gmail.com</td>\n",
       "    </tr>\n",
       "    <tr>\n",
       "      <th>1</th>\n",
       "      <td>Lucas</td>\n",
       "      <td>Siqueira</td>\n",
       "      <td>lucas@hotmail.com</td>\n",
       "    </tr>\n",
       "    <tr>\n",
       "      <th>2</th>\n",
       "      <td>Adeguimar</td>\n",
       "      <td>Lacerda</td>\n",
       "      <td>adeguimar@gmail.com</td>\n",
       "    </tr>\n",
       "  </tbody>\n",
       "</table>\n",
       "</div>"
      ],
      "text/plain": [
       "   FIRST NAME LAST NAME                EMAIL\n",
       "0  Jose Edmar  Siqueira  edmar.ade@gmail.com\n",
       "1       Lucas  Siqueira    lucas@hotmail.com\n",
       "2   Adeguimar   Lacerda  adeguimar@gmail.com"
      ]
     },
     "execution_count": 70,
     "metadata": {},
     "output_type": "execute_result"
    }
   ],
   "source": [
    "#mudar um caracter\n",
    "df.columns = df.columns.str.replace('_', ' ')\n",
    "df"
   ]
  },
  {
   "cell_type": "code",
   "execution_count": 71,
   "id": "b6031e22",
   "metadata": {},
   "outputs": [
    {
     "data": {
      "text/html": [
       "<div>\n",
       "<style scoped>\n",
       "    .dataframe tbody tr th:only-of-type {\n",
       "        vertical-align: middle;\n",
       "    }\n",
       "\n",
       "    .dataframe tbody tr th {\n",
       "        vertical-align: top;\n",
       "    }\n",
       "\n",
       "    .dataframe thead th {\n",
       "        text-align: right;\n",
       "    }\n",
       "</style>\n",
       "<table border=\"1\" class=\"dataframe\">\n",
       "  <thead>\n",
       "    <tr style=\"text-align: right;\">\n",
       "      <th></th>\n",
       "      <th>FIRST_NAME</th>\n",
       "      <th>LAST_NAME</th>\n",
       "      <th>EMAIL</th>\n",
       "    </tr>\n",
       "  </thead>\n",
       "  <tbody>\n",
       "    <tr>\n",
       "      <th>0</th>\n",
       "      <td>Jose Edmar</td>\n",
       "      <td>Siqueira</td>\n",
       "      <td>edmar.ade@gmail.com</td>\n",
       "    </tr>\n",
       "    <tr>\n",
       "      <th>1</th>\n",
       "      <td>Lucas</td>\n",
       "      <td>Siqueira</td>\n",
       "      <td>lucas@hotmail.com</td>\n",
       "    </tr>\n",
       "    <tr>\n",
       "      <th>2</th>\n",
       "      <td>Adeguimar</td>\n",
       "      <td>Lacerda</td>\n",
       "      <td>adeguimar@gmail.com</td>\n",
       "    </tr>\n",
       "  </tbody>\n",
       "</table>\n",
       "</div>"
      ],
      "text/plain": [
       "   FIRST_NAME LAST_NAME                EMAIL\n",
       "0  Jose Edmar  Siqueira  edmar.ade@gmail.com\n",
       "1       Lucas  Siqueira    lucas@hotmail.com\n",
       "2   Adeguimar   Lacerda  adeguimar@gmail.com"
      ]
     },
     "execution_count": 71,
     "metadata": {},
     "output_type": "execute_result"
    }
   ],
   "source": [
    "#mudar um caracter\n",
    "df.columns = df.columns.str.replace(' ', '_')\n",
    "df"
   ]
  },
  {
   "cell_type": "code",
   "execution_count": 72,
   "id": "a79bd062",
   "metadata": {},
   "outputs": [],
   "source": [
    "#podemos mudar os os nomes das columnas por compreensão de lista\n",
    "#neste exemplo vamos mudar tudo para minusculo\n",
    "df.columns = [x.lower() for x in df.columns]"
   ]
  },
  {
   "cell_type": "code",
   "execution_count": 73,
   "id": "cb1663fd",
   "metadata": {},
   "outputs": [
    {
     "data": {
      "text/html": [
       "<div>\n",
       "<style scoped>\n",
       "    .dataframe tbody tr th:only-of-type {\n",
       "        vertical-align: middle;\n",
       "    }\n",
       "\n",
       "    .dataframe tbody tr th {\n",
       "        vertical-align: top;\n",
       "    }\n",
       "\n",
       "    .dataframe thead th {\n",
       "        text-align: right;\n",
       "    }\n",
       "</style>\n",
       "<table border=\"1\" class=\"dataframe\">\n",
       "  <thead>\n",
       "    <tr style=\"text-align: right;\">\n",
       "      <th></th>\n",
       "      <th>first_name</th>\n",
       "      <th>last_name</th>\n",
       "      <th>email</th>\n",
       "    </tr>\n",
       "  </thead>\n",
       "  <tbody>\n",
       "    <tr>\n",
       "      <th>0</th>\n",
       "      <td>Jose Edmar</td>\n",
       "      <td>Siqueira</td>\n",
       "      <td>edmar.ade@gmail.com</td>\n",
       "    </tr>\n",
       "    <tr>\n",
       "      <th>1</th>\n",
       "      <td>Lucas</td>\n",
       "      <td>Siqueira</td>\n",
       "      <td>lucas@hotmail.com</td>\n",
       "    </tr>\n",
       "    <tr>\n",
       "      <th>2</th>\n",
       "      <td>Adeguimar</td>\n",
       "      <td>Lacerda</td>\n",
       "      <td>adeguimar@gmail.com</td>\n",
       "    </tr>\n",
       "  </tbody>\n",
       "</table>\n",
       "</div>"
      ],
      "text/plain": [
       "   first_name last_name                email\n",
       "0  Jose Edmar  Siqueira  edmar.ade@gmail.com\n",
       "1       Lucas  Siqueira    lucas@hotmail.com\n",
       "2   Adeguimar   Lacerda  adeguimar@gmail.com"
      ]
     },
     "execution_count": 73,
     "metadata": {},
     "output_type": "execute_result"
    }
   ],
   "source": [
    "df"
   ]
  },
  {
   "cell_type": "code",
   "execution_count": 74,
   "id": "627cafab",
   "metadata": {},
   "outputs": [],
   "source": [
    "#renomear a colunas especifica\n",
    "df.rename(columns={'first_name' : 'first', 'last_name':'last'}, inplace=True)"
   ]
  },
  {
   "cell_type": "code",
   "execution_count": 75,
   "id": "4739fef8",
   "metadata": {},
   "outputs": [
    {
     "data": {
      "text/html": [
       "<div>\n",
       "<style scoped>\n",
       "    .dataframe tbody tr th:only-of-type {\n",
       "        vertical-align: middle;\n",
       "    }\n",
       "\n",
       "    .dataframe tbody tr th {\n",
       "        vertical-align: top;\n",
       "    }\n",
       "\n",
       "    .dataframe thead th {\n",
       "        text-align: right;\n",
       "    }\n",
       "</style>\n",
       "<table border=\"1\" class=\"dataframe\">\n",
       "  <thead>\n",
       "    <tr style=\"text-align: right;\">\n",
       "      <th></th>\n",
       "      <th>first</th>\n",
       "      <th>last</th>\n",
       "      <th>email</th>\n",
       "    </tr>\n",
       "  </thead>\n",
       "  <tbody>\n",
       "    <tr>\n",
       "      <th>0</th>\n",
       "      <td>Jose Edmar</td>\n",
       "      <td>Siqueira</td>\n",
       "      <td>edmar.ade@gmail.com</td>\n",
       "    </tr>\n",
       "    <tr>\n",
       "      <th>1</th>\n",
       "      <td>Lucas</td>\n",
       "      <td>Siqueira</td>\n",
       "      <td>lucas@hotmail.com</td>\n",
       "    </tr>\n",
       "    <tr>\n",
       "      <th>2</th>\n",
       "      <td>Adeguimar</td>\n",
       "      <td>Lacerda</td>\n",
       "      <td>adeguimar@gmail.com</td>\n",
       "    </tr>\n",
       "  </tbody>\n",
       "</table>\n",
       "</div>"
      ],
      "text/plain": [
       "        first      last                email\n",
       "0  Jose Edmar  Siqueira  edmar.ade@gmail.com\n",
       "1       Lucas  Siqueira    lucas@hotmail.com\n",
       "2   Adeguimar   Lacerda  adeguimar@gmail.com"
      ]
     },
     "execution_count": 75,
     "metadata": {},
     "output_type": "execute_result"
    }
   ],
   "source": [
    "df"
   ]
  },
  {
   "cell_type": "code",
   "execution_count": 76,
   "id": "500fb45f",
   "metadata": {},
   "outputs": [
    {
     "data": {
      "text/plain": [
       "first                Lucas\n",
       "last              Siqueira\n",
       "email    lucas@hotmail.com\n",
       "Name: 1, dtype: object"
      ]
     },
     "execution_count": 76,
     "metadata": {},
     "output_type": "execute_result"
    }
   ],
   "source": [
    "#renomear linhas\n",
    "df.loc[1]"
   ]
  },
  {
   "cell_type": "code",
   "execution_count": 77,
   "id": "7e506197",
   "metadata": {},
   "outputs": [
    {
     "data": {
      "text/html": [
       "<div>\n",
       "<style scoped>\n",
       "    .dataframe tbody tr th:only-of-type {\n",
       "        vertical-align: middle;\n",
       "    }\n",
       "\n",
       "    .dataframe tbody tr th {\n",
       "        vertical-align: top;\n",
       "    }\n",
       "\n",
       "    .dataframe thead th {\n",
       "        text-align: right;\n",
       "    }\n",
       "</style>\n",
       "<table border=\"1\" class=\"dataframe\">\n",
       "  <thead>\n",
       "    <tr style=\"text-align: right;\">\n",
       "      <th></th>\n",
       "      <th>first</th>\n",
       "      <th>last</th>\n",
       "      <th>email</th>\n",
       "    </tr>\n",
       "  </thead>\n",
       "  <tbody>\n",
       "    <tr>\n",
       "      <th>0</th>\n",
       "      <td>Jose Edmar</td>\n",
       "      <td>Siqueira</td>\n",
       "      <td>edmar.ade@gmail.com</td>\n",
       "    </tr>\n",
       "    <tr>\n",
       "      <th>1</th>\n",
       "      <td>Lucas Dias</td>\n",
       "      <td>Siqueirinha</td>\n",
       "      <td>lucas@gmail.com</td>\n",
       "    </tr>\n",
       "    <tr>\n",
       "      <th>2</th>\n",
       "      <td>Adeguimar</td>\n",
       "      <td>Lacerda</td>\n",
       "      <td>adeguimar@gmail.com</td>\n",
       "    </tr>\n",
       "  </tbody>\n",
       "</table>\n",
       "</div>"
      ],
      "text/plain": [
       "        first         last                email\n",
       "0  Jose Edmar     Siqueira  edmar.ade@gmail.com\n",
       "1  Lucas Dias  Siqueirinha      lucas@gmail.com\n",
       "2   Adeguimar      Lacerda  adeguimar@gmail.com"
      ]
     },
     "execution_count": 77,
     "metadata": {},
     "output_type": "execute_result"
    }
   ],
   "source": [
    "#primeira opção podemos passar todos os campo\n",
    "df.loc[1] = ['Lucas Dias', 'Siqueirinha', 'lucas@gmail.com']\n",
    "df"
   ]
  },
  {
   "cell_type": "code",
   "execution_count": 78,
   "id": "5b965f95",
   "metadata": {},
   "outputs": [],
   "source": [
    "# o metodos anterior funciona porém é trabalhoso mudar varias linhas, podemos usar loc e filtra a linha que queremos mudar\n",
    "df.loc[1, ['last', 'email']] = ['Siqueira', 'lucasSiqueira@gmail.com']"
   ]
  },
  {
   "cell_type": "code",
   "execution_count": 79,
   "id": "d6693d33",
   "metadata": {},
   "outputs": [
    {
     "data": {
      "text/html": [
       "<div>\n",
       "<style scoped>\n",
       "    .dataframe tbody tr th:only-of-type {\n",
       "        vertical-align: middle;\n",
       "    }\n",
       "\n",
       "    .dataframe tbody tr th {\n",
       "        vertical-align: top;\n",
       "    }\n",
       "\n",
       "    .dataframe thead th {\n",
       "        text-align: right;\n",
       "    }\n",
       "</style>\n",
       "<table border=\"1\" class=\"dataframe\">\n",
       "  <thead>\n",
       "    <tr style=\"text-align: right;\">\n",
       "      <th></th>\n",
       "      <th>first</th>\n",
       "      <th>last</th>\n",
       "      <th>email</th>\n",
       "    </tr>\n",
       "  </thead>\n",
       "  <tbody>\n",
       "    <tr>\n",
       "      <th>0</th>\n",
       "      <td>Jose Edmar</td>\n",
       "      <td>Siqueira</td>\n",
       "      <td>edmar.ade@gmail.com</td>\n",
       "    </tr>\n",
       "    <tr>\n",
       "      <th>1</th>\n",
       "      <td>Lucas Dias</td>\n",
       "      <td>Siqueira</td>\n",
       "      <td>lucasSiqueira@gmail.com</td>\n",
       "    </tr>\n",
       "    <tr>\n",
       "      <th>2</th>\n",
       "      <td>Adeguimar</td>\n",
       "      <td>Lacerda</td>\n",
       "      <td>adeguimar@gmail.com</td>\n",
       "    </tr>\n",
       "  </tbody>\n",
       "</table>\n",
       "</div>"
      ],
      "text/plain": [
       "        first      last                    email\n",
       "0  Jose Edmar  Siqueira      edmar.ade@gmail.com\n",
       "1  Lucas Dias  Siqueira  lucasSiqueira@gmail.com\n",
       "2   Adeguimar   Lacerda      adeguimar@gmail.com"
      ]
     },
     "execution_count": 79,
     "metadata": {},
     "output_type": "execute_result"
    }
   ],
   "source": [
    "df"
   ]
  },
  {
   "cell_type": "code",
   "execution_count": 80,
   "id": "ab5e69b6",
   "metadata": {},
   "outputs": [],
   "source": [
    "# mudar um unico valor\n",
    "df.loc[1, 'last'] = 'Siqueira'"
   ]
  },
  {
   "cell_type": "code",
   "execution_count": 81,
   "id": "d1beccc3",
   "metadata": {},
   "outputs": [
    {
     "data": {
      "text/html": [
       "<div>\n",
       "<style scoped>\n",
       "    .dataframe tbody tr th:only-of-type {\n",
       "        vertical-align: middle;\n",
       "    }\n",
       "\n",
       "    .dataframe tbody tr th {\n",
       "        vertical-align: top;\n",
       "    }\n",
       "\n",
       "    .dataframe thead th {\n",
       "        text-align: right;\n",
       "    }\n",
       "</style>\n",
       "<table border=\"1\" class=\"dataframe\">\n",
       "  <thead>\n",
       "    <tr style=\"text-align: right;\">\n",
       "      <th></th>\n",
       "      <th>first</th>\n",
       "      <th>last</th>\n",
       "      <th>email</th>\n",
       "    </tr>\n",
       "  </thead>\n",
       "  <tbody>\n",
       "    <tr>\n",
       "      <th>0</th>\n",
       "      <td>Jose Edmar</td>\n",
       "      <td>Siqueira</td>\n",
       "      <td>edmar.ade@gmail.com</td>\n",
       "    </tr>\n",
       "    <tr>\n",
       "      <th>1</th>\n",
       "      <td>Lucas Dias</td>\n",
       "      <td>Siqueira</td>\n",
       "      <td>lucasSiqueira@gmail.com</td>\n",
       "    </tr>\n",
       "    <tr>\n",
       "      <th>2</th>\n",
       "      <td>Adeguimar</td>\n",
       "      <td>Lacerda</td>\n",
       "      <td>adeguimar@gmail.com</td>\n",
       "    </tr>\n",
       "  </tbody>\n",
       "</table>\n",
       "</div>"
      ],
      "text/plain": [
       "        first      last                    email\n",
       "0  Jose Edmar  Siqueira      edmar.ade@gmail.com\n",
       "1  Lucas Dias  Siqueira  lucasSiqueira@gmail.com\n",
       "2   Adeguimar   Lacerda      adeguimar@gmail.com"
      ]
     },
     "execution_count": 81,
     "metadata": {},
     "output_type": "execute_result"
    }
   ],
   "source": [
    "df"
   ]
  },
  {
   "cell_type": "code",
   "execution_count": 82,
   "id": "5fd2fa31",
   "metadata": {},
   "outputs": [],
   "source": [
    "# mudemos mudar um unico valor usando a funcao at conforme abaixo\n",
    "df.at[1, 'last'] = 'Siqueirinha'"
   ]
  },
  {
   "cell_type": "code",
   "execution_count": 83,
   "id": "eebcbf61",
   "metadata": {},
   "outputs": [
    {
     "data": {
      "text/html": [
       "<div>\n",
       "<style scoped>\n",
       "    .dataframe tbody tr th:only-of-type {\n",
       "        vertical-align: middle;\n",
       "    }\n",
       "\n",
       "    .dataframe tbody tr th {\n",
       "        vertical-align: top;\n",
       "    }\n",
       "\n",
       "    .dataframe thead th {\n",
       "        text-align: right;\n",
       "    }\n",
       "</style>\n",
       "<table border=\"1\" class=\"dataframe\">\n",
       "  <thead>\n",
       "    <tr style=\"text-align: right;\">\n",
       "      <th></th>\n",
       "      <th>first</th>\n",
       "      <th>last</th>\n",
       "      <th>email</th>\n",
       "    </tr>\n",
       "  </thead>\n",
       "  <tbody>\n",
       "    <tr>\n",
       "      <th>0</th>\n",
       "      <td>Jose Edmar</td>\n",
       "      <td>Siqueira</td>\n",
       "      <td>edmar.ade@gmail.com</td>\n",
       "    </tr>\n",
       "    <tr>\n",
       "      <th>1</th>\n",
       "      <td>Lucas Dias</td>\n",
       "      <td>Siqueirinha</td>\n",
       "      <td>lucasSiqueira@gmail.com</td>\n",
       "    </tr>\n",
       "    <tr>\n",
       "      <th>2</th>\n",
       "      <td>Adeguimar</td>\n",
       "      <td>Lacerda</td>\n",
       "      <td>adeguimar@gmail.com</td>\n",
       "    </tr>\n",
       "  </tbody>\n",
       "</table>\n",
       "</div>"
      ],
      "text/plain": [
       "        first         last                    email\n",
       "0  Jose Edmar     Siqueira      edmar.ade@gmail.com\n",
       "1  Lucas Dias  Siqueirinha  lucasSiqueira@gmail.com\n",
       "2   Adeguimar      Lacerda      adeguimar@gmail.com"
      ]
     },
     "execution_count": 83,
     "metadata": {},
     "output_type": "execute_result"
    }
   ],
   "source": [
    "df"
   ]
  },
  {
   "cell_type": "code",
   "execution_count": 84,
   "id": "b9fbd8eb",
   "metadata": {},
   "outputs": [
    {
     "name": "stderr",
     "output_type": "stream",
     "text": [
      "/tmp/ipykernel_6241/990408422.py:3: SettingWithCopyWarning: \n",
      "A value is trying to be set on a copy of a slice from a DataFrame.\n",
      "Try using .loc[row_indexer,col_indexer] = value instead\n",
      "\n",
      "See the caveats in the documentation: https://pandas.pydata.org/pandas-docs/stable/user_guide/indexing.html#returning-a-view-versus-a-copy\n",
      "  df[filt]['last'] = 'Siqueirao'\n"
     ]
    }
   ],
   "source": [
    "# maneira errada de tentar altera o valor \n",
    "filt = (df['email'] == 'edmar.ade@gmail.com')\n",
    "df[filt]['last'] = 'Siqueirao'"
   ]
  },
  {
   "cell_type": "code",
   "execution_count": 85,
   "id": "7453d835",
   "metadata": {},
   "outputs": [],
   "source": [
    "# forma correta de altera o campo com realizando o filtro\n",
    "filt = (df['email'] == 'edmar.ade@gmail.com')\n",
    "df.loc[filt, 'last'] = 'Siqueirao'"
   ]
  },
  {
   "cell_type": "code",
   "execution_count": 86,
   "id": "f7625728",
   "metadata": {},
   "outputs": [
    {
     "data": {
      "text/html": [
       "<div>\n",
       "<style scoped>\n",
       "    .dataframe tbody tr th:only-of-type {\n",
       "        vertical-align: middle;\n",
       "    }\n",
       "\n",
       "    .dataframe tbody tr th {\n",
       "        vertical-align: top;\n",
       "    }\n",
       "\n",
       "    .dataframe thead th {\n",
       "        text-align: right;\n",
       "    }\n",
       "</style>\n",
       "<table border=\"1\" class=\"dataframe\">\n",
       "  <thead>\n",
       "    <tr style=\"text-align: right;\">\n",
       "      <th></th>\n",
       "      <th>first</th>\n",
       "      <th>last</th>\n",
       "      <th>email</th>\n",
       "    </tr>\n",
       "  </thead>\n",
       "  <tbody>\n",
       "    <tr>\n",
       "      <th>0</th>\n",
       "      <td>Jose Edmar</td>\n",
       "      <td>Siqueirao</td>\n",
       "      <td>edmar.ade@gmail.com</td>\n",
       "    </tr>\n",
       "    <tr>\n",
       "      <th>1</th>\n",
       "      <td>Lucas Dias</td>\n",
       "      <td>Siqueirinha</td>\n",
       "      <td>lucasSiqueira@gmail.com</td>\n",
       "    </tr>\n",
       "    <tr>\n",
       "      <th>2</th>\n",
       "      <td>Adeguimar</td>\n",
       "      <td>Lacerda</td>\n",
       "      <td>adeguimar@gmail.com</td>\n",
       "    </tr>\n",
       "  </tbody>\n",
       "</table>\n",
       "</div>"
      ],
      "text/plain": [
       "        first         last                    email\n",
       "0  Jose Edmar    Siqueirao      edmar.ade@gmail.com\n",
       "1  Lucas Dias  Siqueirinha  lucasSiqueira@gmail.com\n",
       "2   Adeguimar      Lacerda      adeguimar@gmail.com"
      ]
     },
     "execution_count": 86,
     "metadata": {},
     "output_type": "execute_result"
    }
   ],
   "source": [
    "df"
   ]
  },
  {
   "cell_type": "code",
   "execution_count": 87,
   "id": "01116dd7",
   "metadata": {},
   "outputs": [],
   "source": [
    "# Modificar todas as colunas do Dataframe\n",
    "df['email'] = df['email'].str.upper()"
   ]
  },
  {
   "cell_type": "code",
   "execution_count": 88,
   "id": "3c76e598",
   "metadata": {},
   "outputs": [
    {
     "data": {
      "text/html": [
       "<div>\n",
       "<style scoped>\n",
       "    .dataframe tbody tr th:only-of-type {\n",
       "        vertical-align: middle;\n",
       "    }\n",
       "\n",
       "    .dataframe tbody tr th {\n",
       "        vertical-align: top;\n",
       "    }\n",
       "\n",
       "    .dataframe thead th {\n",
       "        text-align: right;\n",
       "    }\n",
       "</style>\n",
       "<table border=\"1\" class=\"dataframe\">\n",
       "  <thead>\n",
       "    <tr style=\"text-align: right;\">\n",
       "      <th></th>\n",
       "      <th>first</th>\n",
       "      <th>last</th>\n",
       "      <th>email</th>\n",
       "    </tr>\n",
       "  </thead>\n",
       "  <tbody>\n",
       "    <tr>\n",
       "      <th>0</th>\n",
       "      <td>Jose Edmar</td>\n",
       "      <td>Siqueirao</td>\n",
       "      <td>EDMAR.ADE@GMAIL.COM</td>\n",
       "    </tr>\n",
       "    <tr>\n",
       "      <th>1</th>\n",
       "      <td>Lucas Dias</td>\n",
       "      <td>Siqueirinha</td>\n",
       "      <td>LUCASSIQUEIRA@GMAIL.COM</td>\n",
       "    </tr>\n",
       "    <tr>\n",
       "      <th>2</th>\n",
       "      <td>Adeguimar</td>\n",
       "      <td>Lacerda</td>\n",
       "      <td>ADEGUIMAR@GMAIL.COM</td>\n",
       "    </tr>\n",
       "  </tbody>\n",
       "</table>\n",
       "</div>"
      ],
      "text/plain": [
       "        first         last                    email\n",
       "0  Jose Edmar    Siqueirao      EDMAR.ADE@GMAIL.COM\n",
       "1  Lucas Dias  Siqueirinha  LUCASSIQUEIRA@GMAIL.COM\n",
       "2   Adeguimar      Lacerda      ADEGUIMAR@GMAIL.COM"
      ]
     },
     "execution_count": 88,
     "metadata": {},
     "output_type": "execute_result"
    }
   ],
   "source": [
    "df"
   ]
  },
  {
   "cell_type": "code",
   "execution_count": 89,
   "id": "4ee81ce5",
   "metadata": {},
   "outputs": [],
   "source": [
    "# Existe quatro metodo para atualziar os dados\n",
    "#apply\n",
    "#map\n",
    "#applymap\n",
    "#replace\n"
   ]
  },
  {
   "cell_type": "code",
   "execution_count": 90,
   "id": "fa3cf457",
   "metadata": {},
   "outputs": [
    {
     "data": {
      "text/plain": [
       "0    19\n",
       "1    23\n",
       "2    19\n",
       "Name: email, dtype: int64"
      ]
     },
     "execution_count": 90,
     "metadata": {},
     "output_type": "execute_result"
    }
   ],
   "source": [
    "#vamos ver a aply, usando em siries\n",
    "#vamos contar os caracteres do e-mail\n",
    "df['email'].apply(len)"
   ]
  },
  {
   "cell_type": "code",
   "execution_count": 91,
   "id": "db329423",
   "metadata": {},
   "outputs": [],
   "source": [
    "def lower_email(email):\n",
    "    return email.lower()"
   ]
  },
  {
   "cell_type": "code",
   "execution_count": 92,
   "id": "34cb6c04",
   "metadata": {},
   "outputs": [
    {
     "data": {
      "text/plain": [
       "0        edmar.ade@gmail.com\n",
       "1    lucassiqueira@gmail.com\n",
       "2        adeguimar@gmail.com\n",
       "Name: email, dtype: object"
      ]
     },
     "execution_count": 92,
     "metadata": {},
     "output_type": "execute_result"
    }
   ],
   "source": [
    "df['email'].apply(lower_email)"
   ]
  },
  {
   "cell_type": "code",
   "execution_count": 93,
   "id": "71f3da75",
   "metadata": {},
   "outputs": [
    {
     "data": {
      "text/html": [
       "<div>\n",
       "<style scoped>\n",
       "    .dataframe tbody tr th:only-of-type {\n",
       "        vertical-align: middle;\n",
       "    }\n",
       "\n",
       "    .dataframe tbody tr th {\n",
       "        vertical-align: top;\n",
       "    }\n",
       "\n",
       "    .dataframe thead th {\n",
       "        text-align: right;\n",
       "    }\n",
       "</style>\n",
       "<table border=\"1\" class=\"dataframe\">\n",
       "  <thead>\n",
       "    <tr style=\"text-align: right;\">\n",
       "      <th></th>\n",
       "      <th>first</th>\n",
       "      <th>last</th>\n",
       "      <th>email</th>\n",
       "    </tr>\n",
       "  </thead>\n",
       "  <tbody>\n",
       "    <tr>\n",
       "      <th>0</th>\n",
       "      <td>Jose Edmar</td>\n",
       "      <td>Siqueirao</td>\n",
       "      <td>EDMAR.ADE@GMAIL.COM</td>\n",
       "    </tr>\n",
       "    <tr>\n",
       "      <th>1</th>\n",
       "      <td>Lucas Dias</td>\n",
       "      <td>Siqueirinha</td>\n",
       "      <td>LUCASSIQUEIRA@GMAIL.COM</td>\n",
       "    </tr>\n",
       "    <tr>\n",
       "      <th>2</th>\n",
       "      <td>Adeguimar</td>\n",
       "      <td>Lacerda</td>\n",
       "      <td>ADEGUIMAR@GMAIL.COM</td>\n",
       "    </tr>\n",
       "  </tbody>\n",
       "</table>\n",
       "</div>"
      ],
      "text/plain": [
       "        first         last                    email\n",
       "0  Jose Edmar    Siqueirao      EDMAR.ADE@GMAIL.COM\n",
       "1  Lucas Dias  Siqueirinha  LUCASSIQUEIRA@GMAIL.COM\n",
       "2   Adeguimar      Lacerda      ADEGUIMAR@GMAIL.COM"
      ]
     },
     "execution_count": 93,
     "metadata": {},
     "output_type": "execute_result"
    }
   ],
   "source": [
    "df"
   ]
  },
  {
   "cell_type": "code",
   "execution_count": 94,
   "id": "ea900143",
   "metadata": {},
   "outputs": [],
   "source": [
    "# mudando os valores\n",
    "df['email'] = df['email'].apply(lower_email)"
   ]
  },
  {
   "cell_type": "code",
   "execution_count": 95,
   "id": "90f06233",
   "metadata": {},
   "outputs": [
    {
     "data": {
      "text/html": [
       "<div>\n",
       "<style scoped>\n",
       "    .dataframe tbody tr th:only-of-type {\n",
       "        vertical-align: middle;\n",
       "    }\n",
       "\n",
       "    .dataframe tbody tr th {\n",
       "        vertical-align: top;\n",
       "    }\n",
       "\n",
       "    .dataframe thead th {\n",
       "        text-align: right;\n",
       "    }\n",
       "</style>\n",
       "<table border=\"1\" class=\"dataframe\">\n",
       "  <thead>\n",
       "    <tr style=\"text-align: right;\">\n",
       "      <th></th>\n",
       "      <th>first</th>\n",
       "      <th>last</th>\n",
       "      <th>email</th>\n",
       "    </tr>\n",
       "  </thead>\n",
       "  <tbody>\n",
       "    <tr>\n",
       "      <th>0</th>\n",
       "      <td>Jose Edmar</td>\n",
       "      <td>Siqueirao</td>\n",
       "      <td>edmar.ade@gmail.com</td>\n",
       "    </tr>\n",
       "    <tr>\n",
       "      <th>1</th>\n",
       "      <td>Lucas Dias</td>\n",
       "      <td>Siqueirinha</td>\n",
       "      <td>lucassiqueira@gmail.com</td>\n",
       "    </tr>\n",
       "    <tr>\n",
       "      <th>2</th>\n",
       "      <td>Adeguimar</td>\n",
       "      <td>Lacerda</td>\n",
       "      <td>adeguimar@gmail.com</td>\n",
       "    </tr>\n",
       "  </tbody>\n",
       "</table>\n",
       "</div>"
      ],
      "text/plain": [
       "        first         last                    email\n",
       "0  Jose Edmar    Siqueirao      edmar.ade@gmail.com\n",
       "1  Lucas Dias  Siqueirinha  lucassiqueira@gmail.com\n",
       "2   Adeguimar      Lacerda      adeguimar@gmail.com"
      ]
     },
     "execution_count": 95,
     "metadata": {},
     "output_type": "execute_result"
    }
   ],
   "source": [
    "df"
   ]
  },
  {
   "cell_type": "code",
   "execution_count": 96,
   "id": "c8d648a7",
   "metadata": {},
   "outputs": [],
   "source": [
    "# podemos ter o mesmo resultado usando uma funcaao lambida\n",
    "#vamos deixar nosso e-mail tudo em maiusculo\n",
    "df['email'] = df['email'].apply(lambda x: x.upper())"
   ]
  },
  {
   "cell_type": "code",
   "execution_count": 97,
   "id": "0a3f4478",
   "metadata": {},
   "outputs": [
    {
     "data": {
      "text/html": [
       "<div>\n",
       "<style scoped>\n",
       "    .dataframe tbody tr th:only-of-type {\n",
       "        vertical-align: middle;\n",
       "    }\n",
       "\n",
       "    .dataframe tbody tr th {\n",
       "        vertical-align: top;\n",
       "    }\n",
       "\n",
       "    .dataframe thead th {\n",
       "        text-align: right;\n",
       "    }\n",
       "</style>\n",
       "<table border=\"1\" class=\"dataframe\">\n",
       "  <thead>\n",
       "    <tr style=\"text-align: right;\">\n",
       "      <th></th>\n",
       "      <th>first</th>\n",
       "      <th>last</th>\n",
       "      <th>email</th>\n",
       "    </tr>\n",
       "  </thead>\n",
       "  <tbody>\n",
       "    <tr>\n",
       "      <th>0</th>\n",
       "      <td>Jose Edmar</td>\n",
       "      <td>Siqueirao</td>\n",
       "      <td>EDMAR.ADE@GMAIL.COM</td>\n",
       "    </tr>\n",
       "    <tr>\n",
       "      <th>1</th>\n",
       "      <td>Lucas Dias</td>\n",
       "      <td>Siqueirinha</td>\n",
       "      <td>LUCASSIQUEIRA@GMAIL.COM</td>\n",
       "    </tr>\n",
       "    <tr>\n",
       "      <th>2</th>\n",
       "      <td>Adeguimar</td>\n",
       "      <td>Lacerda</td>\n",
       "      <td>ADEGUIMAR@GMAIL.COM</td>\n",
       "    </tr>\n",
       "  </tbody>\n",
       "</table>\n",
       "</div>"
      ],
      "text/plain": [
       "        first         last                    email\n",
       "0  Jose Edmar    Siqueirao      EDMAR.ADE@GMAIL.COM\n",
       "1  Lucas Dias  Siqueirinha  LUCASSIQUEIRA@GMAIL.COM\n",
       "2   Adeguimar      Lacerda      ADEGUIMAR@GMAIL.COM"
      ]
     },
     "execution_count": 97,
     "metadata": {},
     "output_type": "execute_result"
    }
   ],
   "source": [
    "#visualizar\n",
    "df"
   ]
  },
  {
   "cell_type": "code",
   "execution_count": 98,
   "id": "a6c3980a",
   "metadata": {},
   "outputs": [
    {
     "data": {
      "text/plain": [
       "first    3\n",
       "last     3\n",
       "email    3\n",
       "dtype: int64"
      ]
     },
     "execution_count": 98,
     "metadata": {},
     "output_type": "execute_result"
    }
   ],
   "source": [
    "df.apply(len)"
   ]
  },
  {
   "cell_type": "code",
   "execution_count": 99,
   "id": "6c75aef9",
   "metadata": {},
   "outputs": [
    {
     "data": {
      "text/plain": [
       "first              Adeguimar\n",
       "last                 Lacerda\n",
       "email    ADEGUIMAR@GMAIL.COM\n",
       "dtype: object"
      ]
     },
     "execution_count": 99,
     "metadata": {},
     "output_type": "execute_result"
    }
   ],
   "source": [
    "#visualizar menor valor, funciona melhor com dados númericos\n",
    "df.apply(pd.Series.min)"
   ]
  },
  {
   "cell_type": "code",
   "execution_count": 100,
   "id": "67708ab5",
   "metadata": {},
   "outputs": [
    {
     "data": {
      "text/plain": [
       "first              Adeguimar\n",
       "last                 Lacerda\n",
       "email    ADEGUIMAR@GMAIL.COM\n",
       "dtype: object"
      ]
     },
     "execution_count": 100,
     "metadata": {},
     "output_type": "execute_result"
    }
   ],
   "source": [
    "#mesma consulta com funcao lambda\n",
    "df.apply(lambda x : x.min())"
   ]
  },
  {
   "cell_type": "code",
   "execution_count": 101,
   "id": "76c183d5",
   "metadata": {},
   "outputs": [
    {
     "data": {
      "text/html": [
       "<div>\n",
       "<style scoped>\n",
       "    .dataframe tbody tr th:only-of-type {\n",
       "        vertical-align: middle;\n",
       "    }\n",
       "\n",
       "    .dataframe tbody tr th {\n",
       "        vertical-align: top;\n",
       "    }\n",
       "\n",
       "    .dataframe thead th {\n",
       "        text-align: right;\n",
       "    }\n",
       "</style>\n",
       "<table border=\"1\" class=\"dataframe\">\n",
       "  <thead>\n",
       "    <tr style=\"text-align: right;\">\n",
       "      <th></th>\n",
       "      <th>first</th>\n",
       "      <th>last</th>\n",
       "      <th>email</th>\n",
       "    </tr>\n",
       "  </thead>\n",
       "  <tbody>\n",
       "    <tr>\n",
       "      <th>0</th>\n",
       "      <td>10</td>\n",
       "      <td>9</td>\n",
       "      <td>19</td>\n",
       "    </tr>\n",
       "    <tr>\n",
       "      <th>1</th>\n",
       "      <td>10</td>\n",
       "      <td>11</td>\n",
       "      <td>23</td>\n",
       "    </tr>\n",
       "    <tr>\n",
       "      <th>2</th>\n",
       "      <td>9</td>\n",
       "      <td>7</td>\n",
       "      <td>19</td>\n",
       "    </tr>\n",
       "  </tbody>\n",
       "</table>\n",
       "</div>"
      ],
      "text/plain": [
       "   first  last  email\n",
       "0     10     9     19\n",
       "1     10    11     23\n",
       "2      9     7     19"
      ]
     },
     "execution_count": 101,
     "metadata": {},
     "output_type": "execute_result"
    }
   ],
   "source": [
    "#metodos para os dados da Tabela\n",
    "df.applymap(len)"
   ]
  },
  {
   "cell_type": "code",
   "execution_count": 102,
   "id": "fbc65367",
   "metadata": {},
   "outputs": [
    {
     "data": {
      "text/html": [
       "<div>\n",
       "<style scoped>\n",
       "    .dataframe tbody tr th:only-of-type {\n",
       "        vertical-align: middle;\n",
       "    }\n",
       "\n",
       "    .dataframe tbody tr th {\n",
       "        vertical-align: top;\n",
       "    }\n",
       "\n",
       "    .dataframe thead th {\n",
       "        text-align: right;\n",
       "    }\n",
       "</style>\n",
       "<table border=\"1\" class=\"dataframe\">\n",
       "  <thead>\n",
       "    <tr style=\"text-align: right;\">\n",
       "      <th></th>\n",
       "      <th>first</th>\n",
       "      <th>last</th>\n",
       "      <th>email</th>\n",
       "    </tr>\n",
       "  </thead>\n",
       "  <tbody>\n",
       "    <tr>\n",
       "      <th>0</th>\n",
       "      <td>jose edmar</td>\n",
       "      <td>siqueirao</td>\n",
       "      <td>edmar.ade@gmail.com</td>\n",
       "    </tr>\n",
       "    <tr>\n",
       "      <th>1</th>\n",
       "      <td>lucas dias</td>\n",
       "      <td>siqueirinha</td>\n",
       "      <td>lucassiqueira@gmail.com</td>\n",
       "    </tr>\n",
       "    <tr>\n",
       "      <th>2</th>\n",
       "      <td>adeguimar</td>\n",
       "      <td>lacerda</td>\n",
       "      <td>adeguimar@gmail.com</td>\n",
       "    </tr>\n",
       "  </tbody>\n",
       "</table>\n",
       "</div>"
      ],
      "text/plain": [
       "        first         last                    email\n",
       "0  jose edmar    siqueirao      edmar.ade@gmail.com\n",
       "1  lucas dias  siqueirinha  lucassiqueira@gmail.com\n",
       "2   adeguimar      lacerda      adeguimar@gmail.com"
      ]
     },
     "execution_count": 102,
     "metadata": {},
     "output_type": "execute_result"
    }
   ],
   "source": [
    "#mudar todos os dados da tabelas\n",
    "df.applymap(str.lower)"
   ]
  },
  {
   "cell_type": "code",
   "execution_count": 103,
   "id": "79d303da",
   "metadata": {},
   "outputs": [
    {
     "data": {
      "text/plain": [
       "0          NaN\n",
       "1        Lucas\n",
       "2    Adeguimar\n",
       "Name: first, dtype: object"
      ]
     },
     "execution_count": 103,
     "metadata": {},
     "output_type": "execute_result"
    }
   ],
   "source": [
    "#Usar map para mudar valor na Data Series, passamos os campos que queremos mudar em um dicionáio\n",
    "#porém usando o map os valores que não mudarmos vai ficar no NaN\n",
    "df['first'].map({'Lucas Dias' : 'Lucas', 'Adeguimar' : 'Adeguimar'})"
   ]
  },
  {
   "cell_type": "code",
   "execution_count": 104,
   "id": "7ee5bb1f",
   "metadata": {},
   "outputs": [
    {
     "data": {
      "text/plain": [
       "0    Jose Edmar\n",
       "1         Lucas\n",
       "2     Adeguimar\n",
       "Name: first, dtype: object"
      ]
     },
     "execution_count": 104,
     "metadata": {},
     "output_type": "execute_result"
    }
   ],
   "source": [
    "#Para náo ficar com NaN devemos usar o replace\n",
    "df['first'].replace({'Lucas Dias': 'Lucas', 'Adeguimar' : 'Adeguimar'})"
   ]
  },
  {
   "cell_type": "code",
   "execution_count": 105,
   "id": "f1277537",
   "metadata": {},
   "outputs": [
    {
     "data": {
      "text/html": [
       "<div>\n",
       "<style scoped>\n",
       "    .dataframe tbody tr th:only-of-type {\n",
       "        vertical-align: middle;\n",
       "    }\n",
       "\n",
       "    .dataframe tbody tr th {\n",
       "        vertical-align: top;\n",
       "    }\n",
       "\n",
       "    .dataframe thead th {\n",
       "        text-align: right;\n",
       "    }\n",
       "</style>\n",
       "<table border=\"1\" class=\"dataframe\">\n",
       "  <thead>\n",
       "    <tr style=\"text-align: right;\">\n",
       "      <th></th>\n",
       "      <th>first</th>\n",
       "      <th>last</th>\n",
       "      <th>email</th>\n",
       "    </tr>\n",
       "  </thead>\n",
       "  <tbody>\n",
       "    <tr>\n",
       "      <th>0</th>\n",
       "      <td>Jose Edmar</td>\n",
       "      <td>Siqueirao</td>\n",
       "      <td>EDMAR.ADE@GMAIL.COM</td>\n",
       "    </tr>\n",
       "    <tr>\n",
       "      <th>1</th>\n",
       "      <td>Lucas Dias</td>\n",
       "      <td>Siqueirinha</td>\n",
       "      <td>LUCASSIQUEIRA@GMAIL.COM</td>\n",
       "    </tr>\n",
       "    <tr>\n",
       "      <th>2</th>\n",
       "      <td>Adeguimar</td>\n",
       "      <td>Lacerda</td>\n",
       "      <td>ADEGUIMAR@GMAIL.COM</td>\n",
       "    </tr>\n",
       "  </tbody>\n",
       "</table>\n",
       "</div>"
      ],
      "text/plain": [
       "        first         last                    email\n",
       "0  Jose Edmar    Siqueirao      EDMAR.ADE@GMAIL.COM\n",
       "1  Lucas Dias  Siqueirinha  LUCASSIQUEIRA@GMAIL.COM\n",
       "2   Adeguimar      Lacerda      ADEGUIMAR@GMAIL.COM"
      ]
     },
     "execution_count": 105,
     "metadata": {},
     "output_type": "execute_result"
    }
   ],
   "source": [
    "df"
   ]
  },
  {
   "cell_type": "code",
   "execution_count": 106,
   "id": "01964347",
   "metadata": {},
   "outputs": [],
   "source": [
    "#tudo que foi feito não foi modificado realmente  na tabela,\n",
    "#para mudar realmente devemos usar conforme abaixo\n",
    "df['first'] = df['first'].replace({'Lucas Dias': 'Lucas', 'Adeguimar' : 'Adeguimar'})"
   ]
  },
  {
   "cell_type": "code",
   "execution_count": 107,
   "id": "ccd20511",
   "metadata": {},
   "outputs": [
    {
     "data": {
      "text/html": [
       "<div>\n",
       "<style scoped>\n",
       "    .dataframe tbody tr th:only-of-type {\n",
       "        vertical-align: middle;\n",
       "    }\n",
       "\n",
       "    .dataframe tbody tr th {\n",
       "        vertical-align: top;\n",
       "    }\n",
       "\n",
       "    .dataframe thead th {\n",
       "        text-align: right;\n",
       "    }\n",
       "</style>\n",
       "<table border=\"1\" class=\"dataframe\">\n",
       "  <thead>\n",
       "    <tr style=\"text-align: right;\">\n",
       "      <th></th>\n",
       "      <th>first</th>\n",
       "      <th>last</th>\n",
       "      <th>email</th>\n",
       "    </tr>\n",
       "  </thead>\n",
       "  <tbody>\n",
       "    <tr>\n",
       "      <th>0</th>\n",
       "      <td>Jose Edmar</td>\n",
       "      <td>Siqueirao</td>\n",
       "      <td>EDMAR.ADE@GMAIL.COM</td>\n",
       "    </tr>\n",
       "    <tr>\n",
       "      <th>1</th>\n",
       "      <td>Lucas</td>\n",
       "      <td>Siqueirinha</td>\n",
       "      <td>LUCASSIQUEIRA@GMAIL.COM</td>\n",
       "    </tr>\n",
       "    <tr>\n",
       "      <th>2</th>\n",
       "      <td>Adeguimar</td>\n",
       "      <td>Lacerda</td>\n",
       "      <td>ADEGUIMAR@GMAIL.COM</td>\n",
       "    </tr>\n",
       "  </tbody>\n",
       "</table>\n",
       "</div>"
      ],
      "text/plain": [
       "        first         last                    email\n",
       "0  Jose Edmar    Siqueirao      EDMAR.ADE@GMAIL.COM\n",
       "1       Lucas  Siqueirinha  LUCASSIQUEIRA@GMAIL.COM\n",
       "2   Adeguimar      Lacerda      ADEGUIMAR@GMAIL.COM"
      ]
     },
     "execution_count": 107,
     "metadata": {},
     "output_type": "execute_result"
    }
   ],
   "source": [
    "df"
   ]
  },
  {
   "cell_type": "code",
   "execution_count": 108,
   "id": "3da57779",
   "metadata": {},
   "outputs": [],
   "source": [
    "#mudar somente o Ultimo nome do Lucas\n",
    "df['last'] = df['last'].replace({'Siqueirinha': 'Siqueira'})"
   ]
  },
  {
   "cell_type": "code",
   "execution_count": 109,
   "id": "1b8845ac",
   "metadata": {},
   "outputs": [
    {
     "data": {
      "text/html": [
       "<div>\n",
       "<style scoped>\n",
       "    .dataframe tbody tr th:only-of-type {\n",
       "        vertical-align: middle;\n",
       "    }\n",
       "\n",
       "    .dataframe tbody tr th {\n",
       "        vertical-align: top;\n",
       "    }\n",
       "\n",
       "    .dataframe thead th {\n",
       "        text-align: right;\n",
       "    }\n",
       "</style>\n",
       "<table border=\"1\" class=\"dataframe\">\n",
       "  <thead>\n",
       "    <tr style=\"text-align: right;\">\n",
       "      <th></th>\n",
       "      <th>first</th>\n",
       "      <th>last</th>\n",
       "      <th>email</th>\n",
       "    </tr>\n",
       "  </thead>\n",
       "  <tbody>\n",
       "    <tr>\n",
       "      <th>0</th>\n",
       "      <td>Jose Edmar</td>\n",
       "      <td>Siqueirao</td>\n",
       "      <td>EDMAR.ADE@GMAIL.COM</td>\n",
       "    </tr>\n",
       "    <tr>\n",
       "      <th>1</th>\n",
       "      <td>Lucas</td>\n",
       "      <td>Siqueira</td>\n",
       "      <td>LUCASSIQUEIRA@GMAIL.COM</td>\n",
       "    </tr>\n",
       "    <tr>\n",
       "      <th>2</th>\n",
       "      <td>Adeguimar</td>\n",
       "      <td>Lacerda</td>\n",
       "      <td>ADEGUIMAR@GMAIL.COM</td>\n",
       "    </tr>\n",
       "  </tbody>\n",
       "</table>\n",
       "</div>"
      ],
      "text/plain": [
       "        first       last                    email\n",
       "0  Jose Edmar  Siqueirao      EDMAR.ADE@GMAIL.COM\n",
       "1       Lucas   Siqueira  LUCASSIQUEIRA@GMAIL.COM\n",
       "2   Adeguimar    Lacerda      ADEGUIMAR@GMAIL.COM"
      ]
     },
     "execution_count": 109,
     "metadata": {},
     "output_type": "execute_result"
    }
   ],
   "source": [
    "df"
   ]
  },
  {
   "cell_type": "code",
   "execution_count": null,
   "id": "6924ecfd",
   "metadata": {},
   "outputs": [],
   "source": []
  }
 ],
 "metadata": {
  "kernelspec": {
   "display_name": "Python 3 (ipykernel)",
   "language": "python",
   "name": "python3"
  },
  "language_info": {
   "codemirror_mode": {
    "name": "ipython",
    "version": 3
   },
   "file_extension": ".py",
   "mimetype": "text/x-python",
   "name": "python",
   "nbconvert_exporter": "python",
   "pygments_lexer": "ipython3",
   "version": "3.8.6"
  }
 },
 "nbformat": 4,
 "nbformat_minor": 5
}
