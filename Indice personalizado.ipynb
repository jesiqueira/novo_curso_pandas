{
 "cells": [
  {
   "cell_type": "code",
   "execution_count": 1,
   "id": "7a6f230c",
   "metadata": {},
   "outputs": [],
   "source": [
    "import pandas as pd"
   ]
  },
  {
   "cell_type": "code",
   "execution_count": 3,
   "id": "c4403091",
   "metadata": {},
   "outputs": [],
   "source": [
    "people = {\n",
    "    'first': ['Jose Edmar','Lucas', 'Adeguimar'],\n",
    "    'last': ['Siqueira', 'Siqueira', 'Lacerda'],\n",
    "    'email': ['edmar.ade@gmail.com', 'lucas@hotmail.com','adeguimar@gmail.com']\n",
    "}"
   ]
  },
  {
   "cell_type": "code",
   "execution_count": 4,
   "id": "36f66c89",
   "metadata": {},
   "outputs": [],
   "source": [
    "df = pd.DataFrame(people)"
   ]
  },
  {
   "cell_type": "code",
   "execution_count": 5,
   "id": "910c81b7",
   "metadata": {},
   "outputs": [
    {
     "data": {
      "text/html": [
       "<div>\n",
       "<style scoped>\n",
       "    .dataframe tbody tr th:only-of-type {\n",
       "        vertical-align: middle;\n",
       "    }\n",
       "\n",
       "    .dataframe tbody tr th {\n",
       "        vertical-align: top;\n",
       "    }\n",
       "\n",
       "    .dataframe thead th {\n",
       "        text-align: right;\n",
       "    }\n",
       "</style>\n",
       "<table border=\"1\" class=\"dataframe\">\n",
       "  <thead>\n",
       "    <tr style=\"text-align: right;\">\n",
       "      <th></th>\n",
       "      <th>first</th>\n",
       "      <th>last</th>\n",
       "      <th>email</th>\n",
       "    </tr>\n",
       "  </thead>\n",
       "  <tbody>\n",
       "    <tr>\n",
       "      <th>0</th>\n",
       "      <td>Jose Edmar</td>\n",
       "      <td>Siqueira</td>\n",
       "      <td>edmar.ade@gmail.com</td>\n",
       "    </tr>\n",
       "    <tr>\n",
       "      <th>1</th>\n",
       "      <td>Lucas</td>\n",
       "      <td>Siqueira</td>\n",
       "      <td>lucas@hotmail.com</td>\n",
       "    </tr>\n",
       "    <tr>\n",
       "      <th>2</th>\n",
       "      <td>Adeguimar</td>\n",
       "      <td>Lacerda</td>\n",
       "      <td>adeguimar@gmail.com</td>\n",
       "    </tr>\n",
       "  </tbody>\n",
       "</table>\n",
       "</div>"
      ],
      "text/plain": [
       "        first      last                email\n",
       "0  Jose Edmar  Siqueira  edmar.ade@gmail.com\n",
       "1       Lucas  Siqueira    lucas@hotmail.com\n",
       "2   Adeguimar   Lacerda  adeguimar@gmail.com"
      ]
     },
     "execution_count": 5,
     "metadata": {},
     "output_type": "execute_result"
    }
   ],
   "source": [
    "df"
   ]
  },
  {
   "cell_type": "code",
   "execution_count": 6,
   "id": "4d10fbe8",
   "metadata": {},
   "outputs": [
    {
     "data": {
      "text/plain": [
       "0    edmar.ade@gmail.com\n",
       "1      lucas@hotmail.com\n",
       "2    adeguimar@gmail.com\n",
       "Name: email, dtype: object"
      ]
     },
     "execution_count": 6,
     "metadata": {},
     "output_type": "execute_result"
    }
   ],
   "source": [
    "df['email']"
   ]
  },
  {
   "cell_type": "code",
   "execution_count": 13,
   "id": "40b80d49",
   "metadata": {},
   "outputs": [],
   "source": [
    "#mudar o indice para ser o campo email\n",
    "df.set_index('email', inplace=True)"
   ]
  },
  {
   "cell_type": "code",
   "execution_count": 14,
   "id": "9990dd27",
   "metadata": {},
   "outputs": [
    {
     "data": {
      "text/html": [
       "<div>\n",
       "<style scoped>\n",
       "    .dataframe tbody tr th:only-of-type {\n",
       "        vertical-align: middle;\n",
       "    }\n",
       "\n",
       "    .dataframe tbody tr th {\n",
       "        vertical-align: top;\n",
       "    }\n",
       "\n",
       "    .dataframe thead th {\n",
       "        text-align: right;\n",
       "    }\n",
       "</style>\n",
       "<table border=\"1\" class=\"dataframe\">\n",
       "  <thead>\n",
       "    <tr style=\"text-align: right;\">\n",
       "      <th></th>\n",
       "      <th>first</th>\n",
       "      <th>last</th>\n",
       "    </tr>\n",
       "    <tr>\n",
       "      <th>email</th>\n",
       "      <th></th>\n",
       "      <th></th>\n",
       "    </tr>\n",
       "  </thead>\n",
       "  <tbody>\n",
       "    <tr>\n",
       "      <th>edmar.ade@gmail.com</th>\n",
       "      <td>Jose Edmar</td>\n",
       "      <td>Siqueira</td>\n",
       "    </tr>\n",
       "    <tr>\n",
       "      <th>lucas@hotmail.com</th>\n",
       "      <td>Lucas</td>\n",
       "      <td>Siqueira</td>\n",
       "    </tr>\n",
       "    <tr>\n",
       "      <th>adeguimar@gmail.com</th>\n",
       "      <td>Adeguimar</td>\n",
       "      <td>Lacerda</td>\n",
       "    </tr>\n",
       "  </tbody>\n",
       "</table>\n",
       "</div>"
      ],
      "text/plain": [
       "                          first      last\n",
       "email                                    \n",
       "edmar.ade@gmail.com  Jose Edmar  Siqueira\n",
       "lucas@hotmail.com         Lucas  Siqueira\n",
       "adeguimar@gmail.com   Adeguimar   Lacerda"
      ]
     },
     "execution_count": 14,
     "metadata": {},
     "output_type": "execute_result"
    }
   ],
   "source": [
    "df"
   ]
  },
  {
   "cell_type": "code",
   "execution_count": 16,
   "id": "da5fc066",
   "metadata": {},
   "outputs": [
    {
     "data": {
      "text/plain": [
       "Index(['edmar.ade@gmail.com', 'lucas@hotmail.com', 'adeguimar@gmail.com'], dtype='object', name='email')"
      ]
     },
     "execution_count": 16,
     "metadata": {},
     "output_type": "execute_result"
    }
   ],
   "source": [
    "#verificar os index\n",
    "df.index"
   ]
  },
  {
   "cell_type": "code",
   "execution_count": 17,
   "id": "507baadb",
   "metadata": {},
   "outputs": [
    {
     "data": {
      "text/plain": [
       "first    Jose Edmar\n",
       "last       Siqueira\n",
       "Name: edmar.ade@gmail.com, dtype: object"
      ]
     },
     "execution_count": 17,
     "metadata": {},
     "output_type": "execute_result"
    }
   ],
   "source": [
    "df.loc['edmar.ade@gmail.com']"
   ]
  },
  {
   "cell_type": "code",
   "execution_count": 18,
   "id": "78abc873",
   "metadata": {},
   "outputs": [
    {
     "data": {
      "text/plain": [
       "'Siqueira'"
      ]
     },
     "execution_count": 18,
     "metadata": {},
     "output_type": "execute_result"
    }
   ],
   "source": [
    "df.loc['edmar.ade@gmail.com', 'last']"
   ]
  },
  {
   "cell_type": "code",
   "execution_count": 28,
   "id": "495b398f",
   "metadata": {},
   "outputs": [
    {
     "data": {
      "text/plain": [
       "first    Jose Edmar\n",
       "last       Siqueira\n",
       "Name: edmar.ade@gmail.com, dtype: object"
      ]
     },
     "execution_count": 28,
     "metadata": {},
     "output_type": "execute_result"
    }
   ],
   "source": [
    "#mudamos o index para loc porém o index numérico não foi alterado para iloc\n",
    "df.iloc[0]"
   ]
  },
  {
   "cell_type": "code",
   "execution_count": 29,
   "id": "3c97dceb",
   "metadata": {},
   "outputs": [],
   "source": [
    "#reset index\n",
    "df.reset_index(inplace=True)"
   ]
  },
  {
   "cell_type": "code",
   "execution_count": 30,
   "id": "2130b517",
   "metadata": {},
   "outputs": [
    {
     "data": {
      "text/html": [
       "<div>\n",
       "<style scoped>\n",
       "    .dataframe tbody tr th:only-of-type {\n",
       "        vertical-align: middle;\n",
       "    }\n",
       "\n",
       "    .dataframe tbody tr th {\n",
       "        vertical-align: top;\n",
       "    }\n",
       "\n",
       "    .dataframe thead th {\n",
       "        text-align: right;\n",
       "    }\n",
       "</style>\n",
       "<table border=\"1\" class=\"dataframe\">\n",
       "  <thead>\n",
       "    <tr style=\"text-align: right;\">\n",
       "      <th></th>\n",
       "      <th>email</th>\n",
       "      <th>first</th>\n",
       "      <th>last</th>\n",
       "    </tr>\n",
       "  </thead>\n",
       "  <tbody>\n",
       "    <tr>\n",
       "      <th>0</th>\n",
       "      <td>edmar.ade@gmail.com</td>\n",
       "      <td>Jose Edmar</td>\n",
       "      <td>Siqueira</td>\n",
       "    </tr>\n",
       "    <tr>\n",
       "      <th>1</th>\n",
       "      <td>lucas@hotmail.com</td>\n",
       "      <td>Lucas</td>\n",
       "      <td>Siqueira</td>\n",
       "    </tr>\n",
       "    <tr>\n",
       "      <th>2</th>\n",
       "      <td>adeguimar@gmail.com</td>\n",
       "      <td>Adeguimar</td>\n",
       "      <td>Lacerda</td>\n",
       "    </tr>\n",
       "  </tbody>\n",
       "</table>\n",
       "</div>"
      ],
      "text/plain": [
       "                 email       first      last\n",
       "0  edmar.ade@gmail.com  Jose Edmar  Siqueira\n",
       "1    lucas@hotmail.com       Lucas  Siqueira\n",
       "2  adeguimar@gmail.com   Adeguimar   Lacerda"
      ]
     },
     "execution_count": 30,
     "metadata": {},
     "output_type": "execute_result"
    }
   ],
   "source": [
    "df"
   ]
  },
  {
   "cell_type": "code",
   "execution_count": null,
   "id": "7820e581",
   "metadata": {},
   "outputs": [],
   "source": []
  }
 ],
 "metadata": {
  "kernelspec": {
   "display_name": "Python 3 (ipykernel)",
   "language": "python",
   "name": "python3"
  },
  "language_info": {
   "codemirror_mode": {
    "name": "ipython",
    "version": 3
   },
   "file_extension": ".py",
   "mimetype": "text/x-python",
   "name": "python",
   "nbconvert_exporter": "python",
   "pygments_lexer": "ipython3",
   "version": "3.9.7"
  }
 },
 "nbformat": 4,
 "nbformat_minor": 5
}
