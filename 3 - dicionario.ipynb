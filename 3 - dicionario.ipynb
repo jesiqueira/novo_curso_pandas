{
 "cells": [
  {
   "cell_type": "code",
   "execution_count": 38,
   "id": "eb2e1567",
   "metadata": {},
   "outputs": [],
   "source": [
    "person = {\n",
    "    'first': 'Jose Edmar',\n",
    "    'last': 'Siqueira',\n",
    "    'email': 'edmar.ade@gmail.com'\n",
    "}"
   ]
  },
  {
   "cell_type": "code",
   "execution_count": 39,
   "id": "27645aee",
   "metadata": {},
   "outputs": [],
   "source": [
    "people ={\n",
    "    'first': 'Jose Edmar',\n",
    "    'last': 'Siqueira',\n",
    "    'email': 'edmar.ade@gmail.com'\n",
    "}"
   ]
  },
  {
   "cell_type": "code",
   "execution_count": 40,
   "id": "266cb41d",
   "metadata": {},
   "outputs": [],
   "source": [
    "people = {\n",
    "    'first': ['Jose Edmar','Lucas', 'Adeguimar'],\n",
    "    'last': ['Siqueira', 'Siqueira', 'Lacerda'],\n",
    "    'email': ['edmar.ade@gmail.com', 'lucas@hotmail.com','adeguimar@gmail.com']\n",
    "}"
   ]
  },
  {
   "cell_type": "code",
   "execution_count": 41,
   "id": "f0c26bb5",
   "metadata": {},
   "outputs": [
    {
     "data": {
      "text/plain": [
       "['edmar.ade@gmail.com', 'lucas@hotmail.com', 'adeguimar@gmail.com']"
      ]
     },
     "execution_count": 41,
     "metadata": {},
     "output_type": "execute_result"
    }
   ],
   "source": [
    "people['email']"
   ]
  },
  {
   "cell_type": "code",
   "execution_count": 42,
   "id": "21775283",
   "metadata": {},
   "outputs": [],
   "source": [
    "import pandas as pd"
   ]
  },
  {
   "cell_type": "code",
   "execution_count": 43,
   "id": "d9997557",
   "metadata": {},
   "outputs": [],
   "source": [
    "df = pd.DataFrame(people)"
   ]
  },
  {
   "cell_type": "code",
   "execution_count": 44,
   "id": "cff6fe78",
   "metadata": {},
   "outputs": [
    {
     "data": {
      "text/html": [
       "<div>\n",
       "<style scoped>\n",
       "    .dataframe tbody tr th:only-of-type {\n",
       "        vertical-align: middle;\n",
       "    }\n",
       "\n",
       "    .dataframe tbody tr th {\n",
       "        vertical-align: top;\n",
       "    }\n",
       "\n",
       "    .dataframe thead th {\n",
       "        text-align: right;\n",
       "    }\n",
       "</style>\n",
       "<table border=\"1\" class=\"dataframe\">\n",
       "  <thead>\n",
       "    <tr style=\"text-align: right;\">\n",
       "      <th></th>\n",
       "      <th>first</th>\n",
       "      <th>last</th>\n",
       "      <th>email</th>\n",
       "    </tr>\n",
       "  </thead>\n",
       "  <tbody>\n",
       "    <tr>\n",
       "      <th>0</th>\n",
       "      <td>Jose Edmar</td>\n",
       "      <td>Siqueira</td>\n",
       "      <td>edmar.ade@gmail.com</td>\n",
       "    </tr>\n",
       "    <tr>\n",
       "      <th>1</th>\n",
       "      <td>Lucas</td>\n",
       "      <td>Siqueira</td>\n",
       "      <td>lucas@hotmail.com</td>\n",
       "    </tr>\n",
       "    <tr>\n",
       "      <th>2</th>\n",
       "      <td>Adeguimar</td>\n",
       "      <td>Lacerda</td>\n",
       "      <td>adeguimar@gmail.com</td>\n",
       "    </tr>\n",
       "  </tbody>\n",
       "</table>\n",
       "</div>"
      ],
      "text/plain": [
       "        first      last                email\n",
       "0  Jose Edmar  Siqueira  edmar.ade@gmail.com\n",
       "1       Lucas  Siqueira    lucas@hotmail.com\n",
       "2   Adeguimar   Lacerda  adeguimar@gmail.com"
      ]
     },
     "execution_count": 44,
     "metadata": {},
     "output_type": "execute_result"
    }
   ],
   "source": [
    "df"
   ]
  },
  {
   "cell_type": "code",
   "execution_count": 45,
   "id": "4892432f",
   "metadata": {},
   "outputs": [
    {
     "data": {
      "text/plain": [
       "0    edmar.ade@gmail.com\n",
       "1      lucas@hotmail.com\n",
       "2    adeguimar@gmail.com\n",
       "Name: email, dtype: object"
      ]
     },
     "execution_count": 45,
     "metadata": {},
     "output_type": "execute_result"
    }
   ],
   "source": [
    "df['email']"
   ]
  },
  {
   "cell_type": "code",
   "execution_count": 46,
   "id": "2bca6e31",
   "metadata": {},
   "outputs": [
    {
     "data": {
      "text/plain": [
       "pandas.core.series.Series"
      ]
     },
     "execution_count": 46,
     "metadata": {},
     "output_type": "execute_result"
    }
   ],
   "source": [
    "# Verificar o tipo de dados em pandas, que é uma series\n",
    "type(df['email'])"
   ]
  },
  {
   "cell_type": "code",
   "execution_count": 47,
   "id": "310b138b",
   "metadata": {},
   "outputs": [
    {
     "data": {
      "text/plain": [
       "0    edmar.ade@gmail.com\n",
       "1      lucas@hotmail.com\n",
       "2    adeguimar@gmail.com\n",
       "Name: email, dtype: object"
      ]
     },
     "execution_count": 47,
     "metadata": {},
     "output_type": "execute_result"
    }
   ],
   "source": [
    "df.email"
   ]
  },
  {
   "cell_type": "code",
   "execution_count": 49,
   "id": "19646f4f",
   "metadata": {},
   "outputs": [
    {
     "data": {
      "text/html": [
       "<div>\n",
       "<style scoped>\n",
       "    .dataframe tbody tr th:only-of-type {\n",
       "        vertical-align: middle;\n",
       "    }\n",
       "\n",
       "    .dataframe tbody tr th {\n",
       "        vertical-align: top;\n",
       "    }\n",
       "\n",
       "    .dataframe thead th {\n",
       "        text-align: right;\n",
       "    }\n",
       "</style>\n",
       "<table border=\"1\" class=\"dataframe\">\n",
       "  <thead>\n",
       "    <tr style=\"text-align: right;\">\n",
       "      <th></th>\n",
       "      <th>first</th>\n",
       "      <th>email</th>\n",
       "    </tr>\n",
       "  </thead>\n",
       "  <tbody>\n",
       "    <tr>\n",
       "      <th>0</th>\n",
       "      <td>Jose Edmar</td>\n",
       "      <td>edmar.ade@gmail.com</td>\n",
       "    </tr>\n",
       "    <tr>\n",
       "      <th>1</th>\n",
       "      <td>Lucas</td>\n",
       "      <td>lucas@hotmail.com</td>\n",
       "    </tr>\n",
       "    <tr>\n",
       "      <th>2</th>\n",
       "      <td>Adeguimar</td>\n",
       "      <td>adeguimar@gmail.com</td>\n",
       "    </tr>\n",
       "  </tbody>\n",
       "</table>\n",
       "</div>"
      ],
      "text/plain": [
       "        first                email\n",
       "0  Jose Edmar  edmar.ade@gmail.com\n",
       "1       Lucas    lucas@hotmail.com\n",
       "2   Adeguimar  adeguimar@gmail.com"
      ]
     },
     "execution_count": 49,
     "metadata": {},
     "output_type": "execute_result"
    }
   ],
   "source": [
    "# Retorna várias colunas\n",
    "df[['first', 'email']]"
   ]
  },
  {
   "cell_type": "code",
   "execution_count": 50,
   "id": "bbb9fa9a",
   "metadata": {},
   "outputs": [
    {
     "data": {
      "text/plain": [
       "Index(['first', 'last', 'email'], dtype='object')"
      ]
     },
     "execution_count": 50,
     "metadata": {},
     "output_type": "execute_result"
    }
   ],
   "source": [
    "# verificas os nomes da column\n",
    "df.columns"
   ]
  },
  {
   "cell_type": "code",
   "execution_count": 62,
   "id": "2671410c",
   "metadata": {},
   "outputs": [
    {
     "data": {
      "text/plain": [
       "first             Jose Edmar\n",
       "last                Siqueira\n",
       "email    edmar.ade@gmail.com\n",
       "Name: 0, dtype: object"
      ]
     },
     "execution_count": 62,
     "metadata": {},
     "output_type": "execute_result"
    }
   ],
   "source": [
    "# realizar busca por indice com iloc\n",
    "df.iloc[0]"
   ]
  },
  {
   "cell_type": "code",
   "execution_count": 63,
   "id": "dfd7f348",
   "metadata": {},
   "outputs": [
    {
     "data": {
      "text/html": [
       "<div>\n",
       "<style scoped>\n",
       "    .dataframe tbody tr th:only-of-type {\n",
       "        vertical-align: middle;\n",
       "    }\n",
       "\n",
       "    .dataframe tbody tr th {\n",
       "        vertical-align: top;\n",
       "    }\n",
       "\n",
       "    .dataframe thead th {\n",
       "        text-align: right;\n",
       "    }\n",
       "</style>\n",
       "<table border=\"1\" class=\"dataframe\">\n",
       "  <thead>\n",
       "    <tr style=\"text-align: right;\">\n",
       "      <th></th>\n",
       "      <th>first</th>\n",
       "      <th>last</th>\n",
       "      <th>email</th>\n",
       "    </tr>\n",
       "  </thead>\n",
       "  <tbody>\n",
       "    <tr>\n",
       "      <th>0</th>\n",
       "      <td>Jose Edmar</td>\n",
       "      <td>Siqueira</td>\n",
       "      <td>edmar.ade@gmail.com</td>\n",
       "    </tr>\n",
       "    <tr>\n",
       "      <th>1</th>\n",
       "      <td>Lucas</td>\n",
       "      <td>Siqueira</td>\n",
       "      <td>lucas@hotmail.com</td>\n",
       "    </tr>\n",
       "  </tbody>\n",
       "</table>\n",
       "</div>"
      ],
      "text/plain": [
       "        first      last                email\n",
       "0  Jose Edmar  Siqueira  edmar.ade@gmail.com\n",
       "1       Lucas  Siqueira    lucas@hotmail.com"
      ]
     },
     "execution_count": 63,
     "metadata": {},
     "output_type": "execute_result"
    }
   ],
   "source": [
    "# Filtrar mais de uma coluna com iloc, para isso devemos passar uma lista\n",
    "df.iloc[[0, 1]]"
   ]
  },
  {
   "cell_type": "code",
   "execution_count": 64,
   "id": "804dd264",
   "metadata": {},
   "outputs": [
    {
     "data": {
      "text/plain": [
       "0    edmar.ade@gmail.com\n",
       "1      lucas@hotmail.com\n",
       "Name: email, dtype: object"
      ]
     },
     "execution_count": 64,
     "metadata": {},
     "output_type": "execute_result"
    }
   ],
   "source": [
    "# filtra na lista somente o e-mail, para isso devemos passar o indice da coluna para iloc\n",
    "df.iloc[[0,1], 2]"
   ]
  },
  {
   "cell_type": "code",
   "execution_count": 65,
   "id": "f954f247",
   "metadata": {},
   "outputs": [
    {
     "data": {
      "text/plain": [
       "first             Jose Edmar\n",
       "last                Siqueira\n",
       "email    edmar.ade@gmail.com\n",
       "Name: 0, dtype: object"
      ]
     },
     "execution_count": 65,
     "metadata": {},
     "output_type": "execute_result"
    }
   ],
   "source": [
    "# podemos realizar a busca por indece com rotulos para isso usando loc, nesse caso não vai fazer diferença por que os indice que temos são todos númericos\n",
    "df.loc[0]"
   ]
  },
  {
   "cell_type": "code",
   "execution_count": 69,
   "id": "1e00002b",
   "metadata": {},
   "outputs": [
    {
     "data": {
      "text/html": [
       "<div>\n",
       "<style scoped>\n",
       "    .dataframe tbody tr th:only-of-type {\n",
       "        vertical-align: middle;\n",
       "    }\n",
       "\n",
       "    .dataframe tbody tr th {\n",
       "        vertical-align: top;\n",
       "    }\n",
       "\n",
       "    .dataframe thead th {\n",
       "        text-align: right;\n",
       "    }\n",
       "</style>\n",
       "<table border=\"1\" class=\"dataframe\">\n",
       "  <thead>\n",
       "    <tr style=\"text-align: right;\">\n",
       "      <th></th>\n",
       "      <th>first</th>\n",
       "      <th>last</th>\n",
       "      <th>email</th>\n",
       "    </tr>\n",
       "  </thead>\n",
       "  <tbody>\n",
       "    <tr>\n",
       "      <th>0</th>\n",
       "      <td>Jose Edmar</td>\n",
       "      <td>Siqueira</td>\n",
       "      <td>edmar.ade@gmail.com</td>\n",
       "    </tr>\n",
       "    <tr>\n",
       "      <th>2</th>\n",
       "      <td>Adeguimar</td>\n",
       "      <td>Lacerda</td>\n",
       "      <td>adeguimar@gmail.com</td>\n",
       "    </tr>\n",
       "  </tbody>\n",
       "</table>\n",
       "</div>"
      ],
      "text/plain": [
       "        first      last                email\n",
       "0  Jose Edmar  Siqueira  edmar.ade@gmail.com\n",
       "2   Adeguimar   Lacerda  adeguimar@gmail.com"
      ]
     },
     "execution_count": 69,
     "metadata": {},
     "output_type": "execute_result"
    }
   ],
   "source": [
    "df.loc[[0,2]]"
   ]
  },
  {
   "cell_type": "code",
   "execution_count": 70,
   "id": "c669526a",
   "metadata": {},
   "outputs": [
    {
     "data": {
      "text/plain": [
       "0    edmar.ade@gmail.com\n",
       "1      lucas@hotmail.com\n",
       "Name: email, dtype: object"
      ]
     },
     "execution_count": 70,
     "metadata": {},
     "output_type": "execute_result"
    }
   ],
   "source": [
    "# podemos filtra por nome das colunas agora\n",
    "df.loc[[0,1], 'email']"
   ]
  },
  {
   "cell_type": "code",
   "execution_count": 71,
   "id": "ed71c2d0",
   "metadata": {},
   "outputs": [
    {
     "data": {
      "text/html": [
       "<div>\n",
       "<style scoped>\n",
       "    .dataframe tbody tr th:only-of-type {\n",
       "        vertical-align: middle;\n",
       "    }\n",
       "\n",
       "    .dataframe tbody tr th {\n",
       "        vertical-align: top;\n",
       "    }\n",
       "\n",
       "    .dataframe thead th {\n",
       "        text-align: right;\n",
       "    }\n",
       "</style>\n",
       "<table border=\"1\" class=\"dataframe\">\n",
       "  <thead>\n",
       "    <tr style=\"text-align: right;\">\n",
       "      <th></th>\n",
       "      <th>email</th>\n",
       "      <th>last</th>\n",
       "    </tr>\n",
       "  </thead>\n",
       "  <tbody>\n",
       "    <tr>\n",
       "      <th>0</th>\n",
       "      <td>edmar.ade@gmail.com</td>\n",
       "      <td>Siqueira</td>\n",
       "    </tr>\n",
       "    <tr>\n",
       "      <th>1</th>\n",
       "      <td>lucas@hotmail.com</td>\n",
       "      <td>Siqueira</td>\n",
       "    </tr>\n",
       "  </tbody>\n",
       "</table>\n",
       "</div>"
      ],
      "text/plain": [
       "                 email      last\n",
       "0  edmar.ade@gmail.com  Siqueira\n",
       "1    lucas@hotmail.com  Siqueira"
      ]
     },
     "execution_count": 71,
     "metadata": {},
     "output_type": "execute_result"
    }
   ],
   "source": [
    "# podemos filtrar por varias colunas\n",
    "df.loc[[0,1], ['email', 'last']]"
   ]
  },
  {
   "cell_type": "code",
   "execution_count": null,
   "id": "4e68d4d5",
   "metadata": {},
   "outputs": [],
   "source": []
  }
 ],
 "metadata": {
  "interpreter": {
   "hash": "f8e3be849e29aee3aff67d7b651e952b0cd221881d8fb7241a6d86b36053d6cb"
  },
  "kernelspec": {
   "display_name": "Python 3 (ipykernel)",
   "language": "python",
   "name": "python3"
  },
  "language_info": {
   "codemirror_mode": {
    "name": "ipython",
    "version": 3
   },
   "file_extension": ".py",
   "mimetype": "text/x-python",
   "name": "python",
   "nbconvert_exporter": "python",
   "pygments_lexer": "ipython3",
   "version": "3.8.6"
  }
 },
 "nbformat": 4,
 "nbformat_minor": 5
}
